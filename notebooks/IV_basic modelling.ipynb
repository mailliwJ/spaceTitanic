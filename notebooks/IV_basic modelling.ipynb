{
 "cells": [
  {
   "cell_type": "code",
   "execution_count": 1,
   "metadata": {},
   "outputs": [],
   "source": [
    "# ------------------------------------------------------------------------------------------------------------------------------------------------------------\n",
    "# Data Handling and Processing\n",
    "import numpy as np\n",
    "import pandas as pd\n",
    "import math\n",
    "from sklearn.impute import KNNImputer\n",
    "from sklearn.utils import shuffle\n",
    "from sklearn.preprocessing import OneHotEncoder, StandardScaler, PolynomialFeatures, PowerTransformer\n",
    "# ------------------------------------------------------------------------------------------------------------------------------------------------------------\n",
    "\n",
    "# ------------------------------------------------------------------------------------------------------------------------------------------------------------\n",
    "# Visualization \n",
    "import matplotlib.pyplot as plt\n",
    "import seaborn as sns\n",
    "import viztoolz as viz\n",
    "import mltoolz as mlt\n",
    "# ------------------------------------------------------------------------------------------------------------------------------------------------------------\n",
    "\n",
    "# ------------------------------------------------------------------------------------------------------------------------------------------------------------\n",
    "# Model Selection, Metrics & Evaluation\n",
    "from sklearn.model_selection import train_test_split, cross_val_score, GridSearchCV, RandomizedSearchCV\n",
    "from sklearn.metrics import accuracy_score, roc_auc_score, classification_report, ConfusionMatrixDisplay\n",
    "\n",
    "from sklearn.linear_model import LogisticRegression\n",
    "from sklearn.ensemble import RandomForestClassifier\n",
    "from sklearn.svm import SVC\n",
    "\n",
    "from xgboost import XGBClassifier\n",
    "from lightgbm import LGBMClassifier\n",
    "from catboost import CatBoostClassifier\n",
    "# ------------------------------------------------------------------------------------------------------------------------------------------------------------\n",
    "\n",
    "# ------------------------------------------------------------------------------------------------------------------------------------------------------------\n",
    "# Pipeline Construction \n",
    "from sklearn.preprocessing import FunctionTransformer\n",
    "from sklearn.pipeline import Pipeline\n",
    "from sklearn.compose import ColumnTransformer\n",
    "# ------------------------------------------------------------------------------------------------------------------------------------------------------------"
   ]
  },
  {
   "cell_type": "code",
   "execution_count": 2,
   "metadata": {},
   "outputs": [],
   "source": [
    "train = pd.read_csv('../data/processed/train.csv')"
   ]
  },
  {
   "cell_type": "code",
   "execution_count": 4,
   "metadata": {},
   "outputs": [],
   "source": [
    "ohe_cols = ['HomePlanet','Destination','Deck','Side','CabinPosition','InGroup','VIP','CryoSleep','GroupSize']\n",
    "ohe_cols_set2 = ['HomePlanet','Destination','Deck','Side','CabinPosition','InGroup','VIP','CryoSleep','GroupSize','RoomService_used','FoodCourt_used','ShoppingMall_used','Spa_used','VRDeck_used','RoomService_big_spender','FoodCourt_big_spender','ShoppingMall_big_spender','Spa_big_spender','VRDeck_big_spender, TotalSpent_big_spender']\n",
    "scaler_cols = ['Age','RoomService','FoodCourt','ShoppingMall','Spa','VRDeck','TotalSpent']\n",
    "scaler_cols_set2 = ['Age','TotalSpent']"
   ]
  },
  {
   "cell_type": "code",
   "execution_count": 5,
   "metadata": {},
   "outputs": [],
   "source": [
    "lr = LogisticRegression(C=1, max_iter=1000)\n",
    "svc = SVC(C=1, kernel='sigmoid', gamma='scale')\n",
    "\n",
    "rf = RandomForestClassifier(n_estimators=100, max_depth=10, random_state=42)\n",
    "lgbm = LGBMClassifier(n_estimators=100, max_depth=5, verbose=-1, random_state=42)\n",
    "xgbm = XGBClassifier(n_estimators=100, max_depth=5, random_state=42)\n",
    "catb = CatBoostClassifier(iterations=100, depth=5, cat_features=ohe_cols, l2_leaf_reg=2)\n",
    "\n",
    "base_algs = {'lr':lr, 'svc':svc, 'rf':rf, 'lgbm':lgbm, 'xgbm':xgbm, 'catb':catb}"
   ]
  },
  {
   "cell_type": "code",
   "execution_count": 6,
   "metadata": {},
   "outputs": [
    {
     "name": "stdout",
     "output_type": "stream",
     "text": [
      "<class 'pandas.core.frame.DataFrame'>\n",
      "RangeIndex: 8693 entries, 0 to 8692\n",
      "Data columns (total 29 columns):\n",
      " #   Column                    Non-Null Count  Dtype  \n",
      "---  ------                    --------------  -----  \n",
      " 0   PassengerId               8693 non-null   object \n",
      " 1   HomePlanet                8693 non-null   object \n",
      " 2   CryoSleep                 8693 non-null   int64  \n",
      " 3   Destination               8693 non-null   object \n",
      " 4   Age                       8693 non-null   float64\n",
      " 5   VIP                       8693 non-null   int64  \n",
      " 6   RoomService               8693 non-null   float64\n",
      " 7   FoodCourt                 8693 non-null   float64\n",
      " 8   ShoppingMall              8693 non-null   float64\n",
      " 9   Spa                       8693 non-null   float64\n",
      " 10  VRDeck                    8693 non-null   float64\n",
      " 11  Transported               8693 non-null   int64  \n",
      " 12  GroupSize                 8693 non-null   int64  \n",
      " 13  InGroup                   8693 non-null   int64  \n",
      " 14  Deck                      8693 non-null   object \n",
      " 15  Side                      8693 non-null   object \n",
      " 16  CabinPosition             8693 non-null   object \n",
      " 17  TotalSpent                8693 non-null   float64\n",
      " 18  RoomService_used          8693 non-null   int64  \n",
      " 19  RoomService_big_spender   8693 non-null   int64  \n",
      " 20  FoodCourt_used            8693 non-null   int64  \n",
      " 21  FoodCourt_big_spender     8693 non-null   int64  \n",
      " 22  ShoppingMall_used         8693 non-null   int64  \n",
      " 23  ShoppingMall_big_spender  8693 non-null   int64  \n",
      " 24  Spa_used                  8693 non-null   int64  \n",
      " 25  Spa_big_spender           8693 non-null   int64  \n",
      " 26  VRDeck_used               8693 non-null   int64  \n",
      " 27  VRDeck_big_spender        8693 non-null   int64  \n",
      " 28  TotalSpent_big_spender    8693 non-null   int64  \n",
      "dtypes: float64(7), int64(16), object(6)\n",
      "memory usage: 1.9+ MB\n"
     ]
    }
   ],
   "source": [
    "train.info()"
   ]
  },
  {
   "cell_type": "code",
   "execution_count": null,
   "metadata": {},
   "outputs": [],
   "source": []
  }
 ],
 "metadata": {
  "kernelspec": {
   "display_name": "Python 3",
   "language": "python",
   "name": "python3"
  },
  "language_info": {
   "codemirror_mode": {
    "name": "ipython",
    "version": 3
   },
   "file_extension": ".py",
   "mimetype": "text/x-python",
   "name": "python",
   "nbconvert_exporter": "python",
   "pygments_lexer": "ipython3",
   "version": "3.12.1"
  }
 },
 "nbformat": 4,
 "nbformat_minor": 2
}
