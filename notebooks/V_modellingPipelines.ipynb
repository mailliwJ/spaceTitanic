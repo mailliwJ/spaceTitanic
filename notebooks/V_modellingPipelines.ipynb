{
 "cells": [
  {
   "cell_type": "code",
   "execution_count": 7,
   "metadata": {},
   "outputs": [],
   "source": [
    "# ------------------------------------------------------------------------------------------------------------------------------------------------------------\n",
    "# Data Handling and Processing\n",
    "import numpy as np\n",
    "import pandas as pd\n",
    "import math\n",
    "from sklearn.impute import KNNImputer\n",
    "from sklearn.utils import shuffle\n",
    "from sklearn.preprocessing import OneHotEncoder, StandardScaler, PolynomialFeatures, PowerTransformer\n",
    "from sklearn.base import BaseEstimator, TransformerMixin\n",
    "# ------------------------------------------------------------------------------------------------------------------------------------------------------------\n",
    "\n",
    "# ------------------------------------------------------------------------------------------------------------------------------------------------------------\n",
    "# Visualization \n",
    "import matplotlib.pyplot as plt\n",
    "import seaborn as sns\n",
    "import viztoolz as viz\n",
    "import mltoolz as mlt\n",
    "# ------------------------------------------------------------------------------------------------------------------------------------------------------------\n",
    "\n",
    "# ------------------------------------------------------------------------------------------------------------------------------------------------------------\n",
    "# Model Selection, Metrics & Evaluation\n",
    "from sklearn.model_selection import train_test_split, cross_validate, GridSearchCV, RandomizedSearchCV\n",
    "from sklearn.feature_selection import RFE, SelectPercentile, mutual_info_classif, SelectKBest\n",
    "from sklearn.metrics import accuracy_score, f1_score, roc_auc_score, classification_report, ConfusionMatrixDisplay\n",
    "import phik\n",
    "from phik import resources, report\n",
    "\n",
    "from sklearn.linear_model import LogisticRegression\n",
    "from sklearn.ensemble import RandomForestClassifier\n",
    "from sklearn.svm import SVC\n",
    "from sklearn.ensemble import StackingClassifier, VotingClassifier\n",
    "\n",
    "from xgboost import XGBClassifier\n",
    "from lightgbm import LGBMClassifier\n",
    "from catboost import CatBoostClassifier\n",
    "\n",
    "import warnings\n",
    "from sklearn.exceptions import ConvergenceWarning\n",
    "warnings.filterwarnings('ignore', category=ConvergenceWarning)\n",
    "# ------------------------------------------------------------------------------------------------------------------------------------------------------------\n",
    "\n",
    "# ------------------------------------------------------------------------------------------------------------------------------------------------------------\n",
    "# Pipeline Construction \n",
    "from sklearn.preprocessing import FunctionTransformer\n",
    "from sklearn.pipeline import Pipeline\n",
    "from sklearn.compose import ColumnTransformer\n",
    "# ------------------------------------------------------------------------------------------------------------------------------------------------------------\n",
    "\n",
    "# ------------------------------------------------------------------------------------------------------------------------------------------------------------\n",
    "# Model Handling\n",
    "import joblib\n",
    "# ------------------------------------------------------------------------------------------------------------------------------------------------------------"
   ]
  },
  {
   "cell_type": "markdown",
   "metadata": {},
   "source": [
    "---\n",
    "---\n",
    "## Load train and prediction set"
   ]
  },
  {
   "cell_type": "code",
   "execution_count": 8,
   "metadata": {},
   "outputs": [
    {
     "name": "stdout",
     "output_type": "stream",
     "text": [
      "----------------\n",
      "Train Set Shape:\n",
      "(8693, 14)\n",
      "----------------\n",
      "Test Set Shape:\n",
      "(4277, 13)\n",
      "----------------\n"
     ]
    }
   ],
   "source": [
    "train = pd.read_csv('../data/raw/train.csv')\n",
    "test = pd.read_csv('../data/raw/test.csv')\n",
    "\n",
    "print('-'*16)\n",
    "print(f'Train Set Shape:\\n{train.shape}')\n",
    "print('-'*16)\n",
    "print(f'Test Set Shape:\\n{test.shape}')\n",
    "print('-'*16)"
   ]
  },
  {
   "cell_type": "code",
   "execution_count": 9,
   "metadata": {},
   "outputs": [
    {
     "name": "stdout",
     "output_type": "stream",
     "text": [
      "<class 'pandas.core.frame.DataFrame'>\n",
      "RangeIndex: 8693 entries, 0 to 8692\n",
      "Data columns (total 14 columns):\n",
      " #   Column        Non-Null Count  Dtype  \n",
      "---  ------        --------------  -----  \n",
      " 0   PassengerId   8693 non-null   object \n",
      " 1   HomePlanet    8492 non-null   object \n",
      " 2   CryoSleep     8476 non-null   object \n",
      " 3   Cabin         8494 non-null   object \n",
      " 4   Destination   8511 non-null   object \n",
      " 5   Age           8514 non-null   float64\n",
      " 6   VIP           8490 non-null   object \n",
      " 7   RoomService   8512 non-null   float64\n",
      " 8   FoodCourt     8510 non-null   float64\n",
      " 9   ShoppingMall  8485 non-null   float64\n",
      " 10  Spa           8510 non-null   float64\n",
      " 11  VRDeck        8505 non-null   float64\n",
      " 12  Name          8493 non-null   object \n",
      " 13  Transported   8693 non-null   bool   \n",
      "dtypes: bool(1), float64(6), object(7)\n",
      "memory usage: 891.5+ KB\n"
     ]
    }
   ],
   "source": [
    "train.info()"
   ]
  },
  {
   "cell_type": "markdown",
   "metadata": {},
   "source": [
    "---\n",
    "---\n",
    "## Define custom classes to handle data processing"
   ]
  },
  {
   "cell_type": "code",
   "execution_count": 10,
   "metadata": {},
   "outputs": [],
   "source": [
    "# Transform PassengerId into InGroup and GroupSize\n",
    "class transformPassengerId(BaseEstimator, TransformerMixin):\n",
    "    def fit(self, X, y=None):\n",
    "        return self\n",
    "    \n",
    "    def transform(self, X, y=None):\n",
    "        X = X.copy()\n",
    "        X['GroupId'] = X['PassengerId'].str.split('_').str[0]\n",
    "        X['PassengerNumber'] = X['PassengerId'].str.split('_').str[1].astype(float)\n",
    "        group_counts = X['GroupId'].value_counts()\n",
    "        X['GroupSize'] = X['GroupId'].map(group_counts)\n",
    "        X['InGroup'] = np.where(X['GroupSize'] > 1, 1, 0)\n",
    "        return X\n",
    "\n",
    "\n",
    "# Transform Cabin into Deck, CabinPosition and Side \n",
    "class transformCabin(BaseEstimator, TransformerMixin):\n",
    "    def fit(self, X, y=None):\n",
    "        return self\n",
    "    \n",
    "    def transform(self, X, y=None):\n",
    "        X = X.copy()\n",
    "        X['Deck'] = X['Cabin'].str.split('/').str[0]\n",
    "        X['CabinNumber'] = X['Cabin'].str.split('/').str[1].astype(float)\n",
    "        X['Side'] = X['Cabin'].str.split('/').str[2]\n",
    "        bin_edges = np.linspace(X['CabinNumber'].min(), X['CabinNumber'].max(), 5)\n",
    "        X['CabinPosition'] = pd.cut(X['CabinNumber'],\n",
    "                                    bins=bin_edges,\n",
    "                                    labels=['Front','Second','Third','Back'],\n",
    "                                    include_lowest=True)\n",
    "        return X\n",
    "\n",
    "\n",
    "# Impute HomePlanet\n",
    "class imputeHomePlanet(BaseEstimator, TransformerMixin):\n",
    "    def __init__(self):\n",
    "        self.group_modes = None\n",
    "        self.deck_modes = None\n",
    "        self.global_mode = None\n",
    "\n",
    "    def fit(self, X, y=None):\n",
    "        X = X.copy()\n",
    "        self.group_modes = (X.groupby('GroupId')['HomePlanet'].agg(lambda x: x.mode().iloc[0] if not x.mode().empty else None))\n",
    "        self.deck_modes = (X.groupby('Deck')['HomePlanet'].agg(lambda x: x.mode().iloc[0] if not x.mode().empty else None))\n",
    "        self.global_mode = X['HomePlanet'].mode().iloc[0]\n",
    "        return self\n",
    "    \n",
    "    def transform(self, X, y=None):\n",
    "        X = X.copy()\n",
    "        if self.group_modes is not None:\n",
    "            X.loc[X['HomePlanet'].isna(), 'HomePlanet'] = (X.loc[X['HomePlanet'].isna(), 'GroupId'].map(self.group_modes))\n",
    "        if self.deck_modes is not None:\n",
    "            X.loc[X['HomePlanet'].isna(), 'HomePlanet'] = (X.loc[X['HomePlanet'].isna(), 'Deck'].map(self.deck_modes))\n",
    "        X['HomePlanet'].fillna(self.global_mode, inplace=True)\n",
    "        return X\n",
    "\n",
    "\n",
    "# Create proportional imputer and impute\n",
    "class proportionalImputer(BaseEstimator, TransformerMixin):\n",
    "    def __init__(self, impute_cols=None, group_col='HomePlanet'):\n",
    "        self.impute_cols = impute_cols or ['Destination', 'Deck', 'Side', 'CabinPosition', 'VIP', 'CryoSleep']\n",
    "        self.group_col = group_col\n",
    "        self.proportions = {}\n",
    "\n",
    "    def fit(self, X, y=None):\n",
    "        X = X.copy()\n",
    "        self.proportions = {}\n",
    "        \n",
    "        for col in self.impute_cols:\n",
    "            self.proportions[col] = (X.groupby(self.group_col)[col].value_counts(normalize=True).dropna())\n",
    "        return self\n",
    "\n",
    "    def transform(self, X, y=None):\n",
    "        X = X.copy()\n",
    "        \n",
    "        for col in self.impute_cols:\n",
    "            col_proportions = self.proportions.get(col, None)\n",
    "\n",
    "            if col_proportions is not None:\n",
    "                def map_group(row):\n",
    "                    group = row[self.group_col]\n",
    "                    if pd.isna(row[col]) and pd.notna(group) and group in col_proportions.index:\n",
    "                        group_proportions = col_proportions.loc[group]\n",
    "                        return np.random.choice(group_proportions.index, p=group_proportions.values)\n",
    "                    return row[col]\n",
    "\n",
    "                X[col] = X.apply(map_group, axis=1)\n",
    "        return X\n",
    "\n",
    "\n",
    "# KNN Imputer and transformer\n",
    "class KNNImputerTransformer(BaseEstimator, TransformerMixin):\n",
    "    def fit(self, X, y=None):\n",
    "        self.columns = ['Age', 'RoomService', 'FoodCourt', 'ShoppingMall', 'Spa', 'VRDeck']\n",
    "        self.imputer = KNNImputer(n_neighbors=5)\n",
    "        self.imputer.fit(X[self.columns])\n",
    "        return self\n",
    "    \n",
    "    def transform(self, X, y=None):\n",
    "        X = X.copy()\n",
    "        X[self.columns] = self.imputer.transform(X[self.columns])\n",
    "        return X\n",
    "\n",
    "\n",
    "# Create TotalSpent column\n",
    "class createTotalSpent(BaseEstimator, TransformerMixin):\n",
    "    def fit(self, X, y=None):\n",
    "        return self\n",
    "    \n",
    "    def transform(self, X, y=None):\n",
    "        X = X.copy()\n",
    "        X['TotalSpent'] = X[['RoomService','FoodCourt','ShoppingMall','Spa','VRDeck']].sum(axis=1)\n",
    "        return X\n",
    "\n",
    "    \n",
    "# Creates binary feature of each service_used\n",
    "class createServiceUsed(BaseEstimator, TransformerMixin):\n",
    "    def __init__(self, cols=None):\n",
    "        self.cols = cols or ['RoomService', 'FoodCourt', 'ShoppingMall', 'Spa', 'VRDeck']\n",
    "\n",
    "    def fit(self, X, y=None):\n",
    "        return self\n",
    "    \n",
    "    def transform(self, X, y=None):\n",
    "        X = X.copy()\n",
    "        for col in self.cols:\n",
    "            X[f'{col}_used'] = X[col].apply(lambda x: 1 if x > 0 else 0).astype(int)\n",
    "        \n",
    "        return X\n",
    "\n",
    "# Creates binary feature that marks outliers for each service\n",
    "class createBigSpenders(BaseEstimator, TransformerMixin):\n",
    "    def __init__(self, cols=None):\n",
    "        self.cols = cols or ['RoomService', 'FoodCourt', 'ShoppingMall', 'Spa', 'VRDeck', 'TotalSpent']\n",
    "        self.iqr_limits = {}\n",
    "\n",
    "    def fit(self, X, y=None):\n",
    "        X = X.copy()\n",
    "        self.iqr_limits = {col: X[col].quantile(0.75) + 1.5 * (X[col].quantile(0.75) - X[col].quantile(0.25)) for col in self.cols}\n",
    "        return self\n",
    "    \n",
    "    def transform(self, X, y=None):\n",
    "        X = X.copy()\n",
    "        for col in self.cols:\n",
    "            outlier_limit = self.iqr_limits[col]\n",
    "            X[f'{col}_big_spender'] = X[col].apply(lambda x: 1 if x > outlier_limit else 0).astype(int)\n",
    "        return X\n",
    "\n",
    "\n",
    "# Convert binary classes to int \n",
    "class toInt(BaseEstimator, TransformerMixin):\n",
    "    def __init__(self, int_cols=None):\n",
    "        self.int_cols = int_cols\n",
    "\n",
    "    def fit(self, X, y=None):\n",
    "        return self\n",
    "    \n",
    "    def transform(self, X, y=None):\n",
    "        X = X.copy()\n",
    "        for col in self.int_cols:\n",
    "            if col in X.columns:\n",
    "                X[col] = X[col].astype(int)\n",
    "        return X\n",
    "\n",
    "\n",
    "# Create a phik feature selector\n",
    "class phikFeatureSelector(BaseEstimator, TransformerMixin):\n",
    "    def __init__(self, target, threshold=0.2, feature_names=None):\n",
    "        self.target = target\n",
    "        self.threshold = threshold\n",
    "        self.feature_names = feature_names\n",
    "        self.selected_feature_idxs = []\n",
    "\n",
    "    def fit(self, X, y=None):\n",
    "        X = X.copy()\n",
    "        X = pd.DataFrame(X, columns=self.feature_names)\n",
    "        X['target'] = y\n",
    "        phik_matrix = X.phik_matrix()\n",
    "\n",
    "        selected_features = phik_matrix[self.target][phik_matrix[self.target] > self.threshold].index.tolist()\n",
    "        if self.target in selected_features:\n",
    "            selected_features.remove(self.target)\n",
    "\n",
    "        self.selected_feature_idxs = [self.feature_names.index(feat) for feat in selected_features]\n",
    "        \n",
    "        return self\n",
    "    \n",
    "    def transform(self, X, y=None):\n",
    "        return X[:, self.selected_feature_idxs]\n",
    "\n",
    "\n",
    "# Drop unwanted columns\n",
    "class dropColumns(BaseEstimator, TransformerMixin):\n",
    "    def __init__(self, drop_cols=None):\n",
    "        self.drop_cols = drop_cols\n",
    "\n",
    "    def fit(self, X, y=None):\n",
    "        return self\n",
    "    \n",
    "    def transform(self, X, y=None):\n",
    "        X = X.copy()\n",
    "        if self.drop_cols:\n",
    "            X.drop(columns=self.drop_cols, inplace=True, errors='ignore')\n",
    "        return X"
   ]
  },
  {
   "cell_type": "markdown",
   "metadata": {},
   "source": [
    "---\n",
    "---\n",
    "## Split train into X, y pairs and train, validation sets"
   ]
  },
  {
   "cell_type": "code",
   "execution_count": 11,
   "metadata": {},
   "outputs": [],
   "source": [
    "target = 'Transported'\n",
    "\n",
    "train = shuffle(train, random_state=42)\n",
    "train, val = train_test_split(train, test_size=0.3, stratify=train[target], random_state=42)\n",
    "\n",
    "X_train, y_train = train.drop(target, axis=1), train[target]\n",
    "X_val, y_val = val.drop(target, axis=1), val[target]"
   ]
  },
  {
   "cell_type": "markdown",
   "metadata": {},
   "source": [
    "---\n",
    "---\n",
    "## Instantiate base algorithms"
   ]
  },
  {
   "cell_type": "code",
   "execution_count": 12,
   "metadata": {},
   "outputs": [],
   "source": [
    "binary_cols_1 = ['InGroup','VIP','CryoSleep']\n",
    "binary_cols_2 = ['InGroup','VIP','CryoSleep','RoomService_used','FoodCourt_used','ShoppingMall_used','Spa_used','VRDeck_used']\n",
    "binary_cols_3 = ['InGroup','VIP','CryoSleep','RoomService_big_spender','FoodCourt_big_spender','ShoppingMall_big_spender','Spa_big_spender','VRDeck_big_spender, TotalSpent_big_spender']\n",
    "binary_cols_4 = ['InGroup','VIP','CryoSleep','RoomService_used','FoodCourt_used','ShoppingMall_used','Spa_used','VRDeck_used','RoomService_big_spender','FoodCourt_big_spender','ShoppingMall_big_spender','Spa_big_spender','VRDeck_big_spender, TotalSpent_big_spender']\n",
    "\n",
    "num_cols_1 = ['Age','RoomService','FoodCourt','ShoppingMall','Spa','VRDeck','TotalSpent']\n",
    "num_cols_2 = ['Age','TotalSpent']\n",
    "\n",
    "cat_cols_1 = ['HomePlanet','Destination','Deck','Side','CabinPosition','GroupSize','InGroup','VIP','CryoSleep','GroupSize']\n",
    "cat_cols_2 = ['HomePlanet','Destination','Deck','Side','CabinPosition','GroupSize']\n",
    "\n",
    "droppers_1 = ['PassengerId','PassengerNumber','GroupId','Cabin','CabinNumber','Name']\n",
    "droppers_2 = ['PassengerId','PassengerNumber','GroupId','Cabin','CabinNumber','Name','RoomService','FoodCourt','ShoppingMall','Spa','VRDeck']\n",
    "\n",
    "all_features = ['PassengerId','HomePlanet','CryoSleep','Destination','Age','VIP','RoomService','FoodCourt','ShoppingMall','Spa','VRDeck','Transported','GroupSize','InGroup','Deck','Side','CabinPosition','TotalSpent','RoomService_used','RoomService_big_spender','FoodCourt_used','FoodCourt_big_spender','ShoppingMall_used','ShoppingMall_big_spender','Spa_used','Spa_big_spender','VRDeck_used','VRDeck_big_spender','TotalSpent_big_spender']\n",
    "phik_selection = ['CryoSleep','RoomService_used','Spa_used','VRDeck_used','Spa_big_spender','RoomService_big_spender','VRDeck_big_spender','ShoppingMall_used','FoodCourt_used','Deck','Spa','ShoppingMall_big_spender','RoomService','VRDeck']\n",
    "\n",
    "phik_selectOrder = [col for col in all_features if col in phik_selection]\n",
    "phik_droppers = [col for col in all_features if col not in phik_selection] + droppers_1\n",
    "\n",
    "binary_cols_phik = [col for col in binary_cols_4 if col in phik_selection]\n",
    "num_cols_phik = [col for col in num_cols_1 if col in phik_selection]\n",
    "cat_cols_phik = [col for col in cat_cols_2 if col in phik_selection]"
   ]
  },
  {
   "cell_type": "markdown",
   "metadata": {},
   "source": [
    "Base algorithms"
   ]
  },
  {
   "cell_type": "code",
   "execution_count": 13,
   "metadata": {},
   "outputs": [],
   "source": [
    "lr = LogisticRegression(C=1, max_iter=1000)\n",
    "svc = SVC(C=1, kernel='sigmoid', gamma='scale')\n",
    "\n",
    "rf = RandomForestClassifier(n_estimators=100, max_depth=10, random_state=42)\n",
    "lgbm = LGBMClassifier(n_estimators=100, max_depth=5, verbose=-1, random_state=42)\n",
    "xgbm = XGBClassifier(n_estimators=100, max_depth=5, random_state=42)\n",
    "catb = CatBoostClassifier(iterations=100, depth=5, cat_features=cat_cols_2, l2_leaf_reg=2, verbose=0)\n",
    "\n",
    "base_algs = {'lr':lr, 'svc':svc, 'rf':rf, 'lgbm':lgbm, 'xgbm':xgbm, 'catb':catb}"
   ]
  },
  {
   "cell_type": "markdown",
   "metadata": {},
   "source": [
    "---\n",
    "---\n",
    "## Build base pipeline\n",
    "\n",
    "- Pipelines provide the best workflow to avoid data leakage from the training folds into the validation folds during cross validation.\n",
    "- Going to test out several pipelines using cross validation to see which selection of features has the best performance"
   ]
  },
  {
   "cell_type": "code",
   "execution_count": 14,
   "metadata": {},
   "outputs": [],
   "source": [
    "# Preprocess pipelines\n",
    "preprocess_1 = Pipeline([\n",
    "    ('TransformPassengerId', transformPassengerId()),\n",
    "    ('TransformCabin', transformCabin()),\n",
    "    ('ImputeHomePlanet', imputeHomePlanet()),\n",
    "    ('ProportionalImputer', proportionalImputer()),\n",
    "    ('KNNImputer', KNNImputerTransformer()),\n",
    "    ('CreateTotalSpent', createTotalSpent()),\n",
    "    ('ToInt', toInt(int_cols=binary_cols_1)),\n",
    "    ('DropColumns', dropColumns(drop_cols=droppers_1))\n",
    "])\n",
    "\n",
    "preprocess_2 = Pipeline([\n",
    "    ('TransformPassengerId', transformPassengerId()),\n",
    "    ('TransformCabin', transformCabin()),\n",
    "    ('ImputeHomePlanet', imputeHomePlanet()),\n",
    "    ('ProportionalImputer', proportionalImputer()),\n",
    "    ('KNNImputer', KNNImputerTransformer()),\n",
    "    ('CreateTotalSpent', createTotalSpent()),\n",
    "    ('CreateServiceUsed', createServiceUsed()),\n",
    "    ('ToInt', toInt(int_cols=binary_cols_2)),\n",
    "    ('DropColumns', dropColumns(drop_cols=droppers_1))\n",
    "])\n",
    "\n",
    "preprocess_3 = Pipeline([\n",
    "    ('TransformPassengerId', transformPassengerId()),\n",
    "    ('TransformCabin', transformCabin()),\n",
    "    ('ImputeHomePlanet', imputeHomePlanet()),\n",
    "    ('ProportionalImputer', proportionalImputer()),\n",
    "    ('KNNImputer', KNNImputerTransformer()),\n",
    "    ('CreateTotalSpent', createTotalSpent()),\n",
    "    ('CreateServiceUsed', createServiceUsed()),\n",
    "    ('ToInt', toInt(int_cols=binary_cols_2)),\n",
    "    ('DropColumns', dropColumns(drop_cols=droppers_2))\n",
    "])\n",
    "\n",
    "preprocess_4 = Pipeline([\n",
    "    ('TransformPassengerId', transformPassengerId()),\n",
    "    ('TransformCabin', transformCabin()),\n",
    "    ('ImputeHomePlanet', imputeHomePlanet()),\n",
    "    ('ProportionalImputer', proportionalImputer()),\n",
    "    ('KNNImputer', KNNImputerTransformer()),\n",
    "    ('CreateTotalSpent', createTotalSpent()),\n",
    "    ('CreateBigSpenders', createBigSpenders()),\n",
    "    ('ToInt', toInt(int_cols=binary_cols_3)),\n",
    "    ('DropColumns', dropColumns(drop_cols=droppers_1))\n",
    "])\n",
    "\n",
    "preprocess_5 = Pipeline([\n",
    "    ('TransformPassengerId', transformPassengerId()),\n",
    "    ('TransformCabin', transformCabin()),\n",
    "    ('ImputeHomePlanet', imputeHomePlanet()),\n",
    "    ('ProportionalImputer', proportionalImputer()),\n",
    "    ('KNNImputer', KNNImputerTransformer()),\n",
    "    ('CreateTotalSpent', createTotalSpent()),\n",
    "    ('CreateBigSpenders', createBigSpenders()),\n",
    "    ('ToInt', toInt(int_cols=binary_cols_3)),\n",
    "    ('DropColumns', dropColumns(drop_cols=droppers_2))\n",
    "])\n",
    "\n",
    "preprocess_6 = Pipeline([\n",
    "    ('TransformPassengerId', transformPassengerId()),\n",
    "    ('TransformCabin', transformCabin()),\n",
    "    ('ImputeHomePlanet', imputeHomePlanet()),\n",
    "    ('ProportionalImputer', proportionalImputer()),\n",
    "    ('KNNImputer', KNNImputerTransformer()),\n",
    "    ('CreateTotalSpent', createTotalSpent()),\n",
    "    ('CreateServiceUsed', createServiceUsed()),\n",
    "    ('CreateBigSpenders', createBigSpenders()),\n",
    "    ('ToInt', toInt(int_cols=binary_cols_4)),\n",
    "    ('DropColumns', dropColumns(drop_cols=droppers_1))\n",
    "])\n",
    "\n",
    "preprocess_7 = Pipeline([\n",
    "    ('TransformPassengerId', transformPassengerId()),\n",
    "    ('TransformCabin', transformCabin()),\n",
    "    ('ImputeHomePlanet', imputeHomePlanet()),\n",
    "    ('ProportionalImputer', proportionalImputer()),\n",
    "    ('KNNImputer', KNNImputerTransformer()),\n",
    "    ('CreateTotalSpent', createTotalSpent()),\n",
    "    ('CreateServiceUsed', createServiceUsed()),\n",
    "    ('CreatebigSpenders', createBigSpenders()),\n",
    "    ('ToInt', toInt(int_cols=binary_cols_4)),\n",
    "    ('DropColumns', dropColumns(drop_cols=droppers_2))\n",
    "])\n",
    "\n",
    "preprocess_8 = Pipeline([\n",
    "    ('TransformPassengerId', transformPassengerId()),\n",
    "    ('TransformCabin', transformCabin()),\n",
    "    ('ImputeHomePlanet', imputeHomePlanet()),\n",
    "    ('ProportionalImputer', proportionalImputer()),\n",
    "    ('KNNImputer', KNNImputerTransformer()),\n",
    "    ('CreateTotalSpent', createTotalSpent()),\n",
    "    ('CreateServiceUsed', createServiceUsed()),\n",
    "    ('CreateBigSpenders', createBigSpenders()),\n",
    "    ('ToInt', toInt(int_cols=binary_cols_phik)),\n",
    "    ('DropColumns', dropColumns(drop_cols=phik_droppers))\n",
    "])\n",
    "\n",
    "# Pipelines for treating categorical and numerical features\n",
    "num_pipe = Pipeline([\n",
    "    ('power', PowerTransformer(method='yeo-johnson')),\n",
    "    ('scale', StandardScaler())\n",
    "])\n",
    "\n",
    "cat_pipe = Pipeline([\n",
    "    ('ohe', OneHotEncoder(handle_unknown='ignore', sparse_output=False))\n",
    "])\n",
    "\n",
    "# Column Transformers\n",
    "ct1 = ColumnTransformer(force_int_remainder_cols=False,\n",
    "        transformers=[\n",
    "                ('cat_cols', cat_pipe, cat_cols_1),\n",
    "                ('num_cols', num_pipe, num_cols_1)],\n",
    "                remainder = 'passthrough')\n",
    "\n",
    "ct2 = ColumnTransformer(force_int_remainder_cols=False,\n",
    "        transformers=[\n",
    "                ('cat_cols', cat_pipe, cat_cols_2), # bianry cols passedthrough\n",
    "                ('num_cols', num_pipe, num_cols_1)],\n",
    "                remainder = 'passthrough')\n",
    "\n",
    "ct3 = ColumnTransformer(force_int_remainder_cols=False,\n",
    "        transformers=[\n",
    "                ('cat_cols', cat_pipe, cat_cols_2), # bianry cols passedthrough\n",
    "                ('num_cols', num_pipe, num_cols_2)], # reduced num_cols for dropping original features\n",
    "                remainder = 'passthrough')\n",
    "\n",
    "ct4 = ColumnTransformer(force_int_remainder_cols=False,\n",
    "        transformers=[\n",
    "                ('num_cols', num_pipe, num_cols_1)],\n",
    "                remainder = 'passthrough')\n",
    "\n",
    "ct5 = ColumnTransformer(force_int_remainder_cols=False,\n",
    "        transformers=[\n",
    "                ('cat_cols', cat_pipe, cat_cols_phik), # bianry cols passedthrough\n",
    "                ('num_cols', num_pipe, num_cols_phik)],\n",
    "                remainder = 'passthrough')\n",
    "\n",
    "# Feature selection methods\n",
    "rfe = RFE(estimator=RandomForestClassifier(random_state=42, n_estimators=100), n_features_to_select=8)\n",
    "select_percentile = SelectPercentile(mutual_info_classif, percentile=50)\n",
    "kBest = SelectKBest(score_func=mutual_info_classif, k=10)\n",
    "phik_selector = phikFeatureSelector(target=y_train, threshold=0.2, feature_names=phik_selectOrder)"
   ]
  },
  {
   "cell_type": "markdown",
   "metadata": {},
   "source": [
    "---\n",
    "### Initial Testing of extra features Sets\n",
    "\n",
    "***Pipe1:***  \n",
    "The original pipeline of features\n",
    "\n",
    "- `PassengerId`: Used but dropped\n",
    "- `HomePlanet`: cat_col, cat_pipe (3 classes)\n",
    "- `CryoSleep`: binary_col, cat_pipe \n",
    "- `Destination`: cat_col, cat_pipe (3 classes)\n",
    "- `Age`: num_col, num_pipe\n",
    "- `VIP`: binary_col, passedthrough\n",
    "- `RoomService`: num_col, num_pipe, *\n",
    "- `FoodCourt`: num_col, num_pipe, *\n",
    "- `ShoppingMall`: num_col, num_pipe, *\n",
    "- `Spa`: num_col, num_pipe, *\n",
    "- `VRDeck`: num_col, num_pipe, *\n",
    "- `Transported`: Target\n",
    "- `GroupSize`: cat_col, cat_pipe (8 classes)\n",
    "- `InGroup`: binary_col, cat_pipe \n",
    "- `Deck`: cat_col, cat_pipe (8 classes)\n",
    "- `Side`: cat_col, cat_pipe (2 classes)\n",
    "- `CabinPosition`: cat_col, cat_pipe (3 classes)\n",
    "- `TotalSpent`: num_col, num_pipe\n",
    "\n",
    "' * ' denotes original service features\n",
    "\n",
    "***Pipe2:***  \n",
    "As pipe1 but treating leaving binary features alone and simply passingthrough instead of teeating as categorical and one hot encoding\n",
    "\n",
    "***Pipe3:***  \n",
    "Addition of the following features, all treated as binary and passthrough\n",
    "- `RoomService_used`\n",
    "- `FoodCourt_used`\n",
    "- `ShoppingMall_used`\n",
    "- `Spa_used`\n",
    "- `VRDeck_used`\n",
    "\n",
    "***Pipe4:***  \n",
    "As pipe 3 but drop original service features\n",
    "\n",
    "***Pipe5:***  \n",
    "Addition of the following features, all treated as binary and passthrough  \n",
    "- `RoomService_big_spender`\n",
    "- `FoodCourt_big_spender`\n",
    "- `ShoppingMall_big_spender`\n",
    "- `Spa_big_spender`\n",
    "- `VRDeck_big_spender`\n",
    "- `TotalSpent_big_spender`\n",
    "\n",
    "***Pipe6:***  \n",
    "As pipe 5 but drop original service features\n",
    "\n",
    "***Pipe7:***  \n",
    "Addition of both serviceUsed and bigSpender features\n",
    "\n",
    "***Pipe8***  \n",
    "- Addition of both serviceUsed and bigSpender features\n",
    "- drop original service features"
   ]
  },
  {
   "cell_type": "markdown",
   "metadata": {},
   "source": [
    "### Binary features one-hot-encoded"
   ]
  },
  {
   "cell_type": "code",
   "execution_count": 15,
   "metadata": {},
   "outputs": [
    {
     "data": {
      "text/plain": [
       "{'test_balanced_accuracy': 0.7998660371854844,\n",
       " 'test_precision': 0.804704358176099,\n",
       " 'test_recall': 0.7957585644371942,\n",
       " 'test_f1': 0.8001570710244754,\n",
       " 'test_roc_auc': 0.8850669273899939}"
      ]
     },
     "execution_count": 15,
     "metadata": {},
     "output_type": "execute_result"
    }
   ],
   "source": [
    "# Binary variable experiment\n",
    "pipe = Pipeline([\n",
    "    ('process', preprocess_1),\n",
    "    ('col_transformer', ct1),\n",
    "    ('clf', base_algs['rf'])\n",
    "])\n",
    "\n",
    "mlt.cv_evaluate(pipe, X_train, y_train, scoring=['balanced_accuracy','precision','recall','f1','roc_auc'], print_scores=False)"
   ]
  },
  {
   "cell_type": "markdown",
   "metadata": {},
   "source": [
    "### Binary features passedthrough"
   ]
  },
  {
   "cell_type": "code",
   "execution_count": 16,
   "metadata": {},
   "outputs": [
    {
     "data": {
      "text/plain": [
       "{'test_balanced_accuracy': 0.8042219893477955,\n",
       " 'test_precision': 0.8024801812147802,\n",
       " 'test_recall': 0.8110929853181077,\n",
       " 'test_f1': 0.806696221202243,\n",
       " 'test_roc_auc': 0.8894015427330576}"
      ]
     },
     "execution_count": 16,
     "metadata": {},
     "output_type": "execute_result"
    }
   ],
   "source": [
    "pipe2 = Pipeline([\n",
    "    ('process', preprocess_1),\n",
    "    ('col_transformer', ct2),\n",
    "    ('clf', base_algs['rf'])\n",
    "])\n",
    "\n",
    "mlt.cv_evaluate(pipe2, X_train, y_train, scoring=['balanced_accuracy','precision','recall','f1','roc_auc'], print_scores=False)"
   ]
  },
  {
   "cell_type": "markdown",
   "metadata": {},
   "source": [
    "- Almost no difference between creating dummies for binary cols or passingthrough\n",
    "- Tiniest bit better when binary features are just passedthrough\n",
    "- Continue with columnTransformer using cat_cols_2"
   ]
  },
  {
   "cell_type": "markdown",
   "metadata": {},
   "source": [
    "---\n",
    "### Try adding service_used columns"
   ]
  },
  {
   "cell_type": "code",
   "execution_count": 17,
   "metadata": {},
   "outputs": [
    {
     "data": {
      "text/plain": [
       "{'test_balanced_accuracy': 0.799435249505742,\n",
       " 'test_precision': 0.7961469985409473,\n",
       " 'test_recall': 0.8091353996737357,\n",
       " 'test_f1': 0.8025539839610716,\n",
       " 'test_roc_auc': 0.8880365264738609}"
      ]
     },
     "execution_count": 17,
     "metadata": {},
     "output_type": "execute_result"
    }
   ],
   "source": [
    "# Addition of serviceUsed features\n",
    "pipe3 = Pipeline([\n",
    "    ('process', preprocess_2),\n",
    "    ('col_transformer', ct2),\n",
    "    ('clf', base_algs['rf'])\n",
    "])\n",
    "\n",
    "mlt.cv_evaluate(pipe3, X_train, y_train, scoring=['balanced_accuracy','precision','recall','f1','roc_auc'], print_scores=False)"
   ]
  },
  {
   "cell_type": "markdown",
   "metadata": {},
   "source": [
    "### with original service numerical columns removed?"
   ]
  },
  {
   "cell_type": "code",
   "execution_count": 18,
   "metadata": {},
   "outputs": [
    {
     "data": {
      "text/plain": [
       "{'test_balanced_accuracy': 0.7557957823320333,\n",
       " 'test_precision': 0.7978949086715313,\n",
       " 'test_recall': 0.6887438825448614,\n",
       " 'test_f1': 0.7392395508780605,\n",
       " 'test_roc_auc': 0.8290288776292905}"
      ]
     },
     "execution_count": 18,
     "metadata": {},
     "output_type": "execute_result"
    }
   ],
   "source": [
    "pipe4 = Pipeline([\n",
    "    ('process', preprocess_3),\n",
    "    ('col_transformer', ct3),\n",
    "    ('clf', base_algs['rf'])\n",
    "])\n",
    "\n",
    "mlt.cv_evaluate(pipe4, X_train, y_train, scoring=['balanced_accuracy','precision','recall','f1','roc_auc'], print_scores=False)"
   ]
  },
  {
   "cell_type": "markdown",
   "metadata": {},
   "source": [
    "- Addition of service_used binary columns appears to weaken the model\n",
    "- Only tested with random forest for speed, but making the assumption that other tree-based algorithms will behave similarly"
   ]
  },
  {
   "cell_type": "markdown",
   "metadata": {},
   "source": [
    "---\n",
    "### Try adding bigspender features"
   ]
  },
  {
   "cell_type": "code",
   "execution_count": 19,
   "metadata": {},
   "outputs": [
    {
     "data": {
      "text/plain": [
       "{'test_balanced_accuracy': 0.8025860765100526,\n",
       " 'test_precision': 0.7889592616051176,\n",
       " 'test_recall': 0.830668841761827,\n",
       " 'test_f1': 0.8092021016936766,\n",
       " 'test_roc_auc': 0.8881777816190054}"
      ]
     },
     "execution_count": 19,
     "metadata": {},
     "output_type": "execute_result"
    }
   ],
   "source": [
    "# Addition of bigSpender features\n",
    "pipe5 = Pipeline([\n",
    "    ('process', preprocess_4),\n",
    "    ('col_transformer', ct2),\n",
    "    ('clf', base_algs['rf'])\n",
    "])\n",
    "\n",
    "mlt.cv_evaluate(pipe5, X_train, y_train, scoring=['balanced_accuracy','precision','recall','f1','roc_auc'], print_scores=False)"
   ]
  },
  {
   "cell_type": "markdown",
   "metadata": {},
   "source": [
    "### and with original service numerical features removed?"
   ]
  },
  {
   "cell_type": "code",
   "execution_count": 20,
   "metadata": {},
   "outputs": [
    {
     "data": {
      "text/plain": [
       "{'test_balanced_accuracy': 0.7803852511262599,\n",
       " 'test_precision': 0.7911278179827637,\n",
       " 'test_recall': 0.7660685154975531,\n",
       " 'test_f1': 0.7783474328433366,\n",
       " 'test_roc_auc': 0.8631434806564178}"
      ]
     },
     "execution_count": 20,
     "metadata": {},
     "output_type": "execute_result"
    }
   ],
   "source": [
    "pipe6 = Pipeline([\n",
    "    ('process', preprocess_5),\n",
    "    ('col_transformer', ct3),\n",
    "    ('clf', base_algs['rf'])\n",
    "])\n",
    "\n",
    "mlt.cv_evaluate(pipe6, X_train, y_train, scoring=['balanced_accuracy','precision','recall','f1','roc_auc'], print_scores=False)"
   ]
  },
  {
   "cell_type": "markdown",
   "metadata": {},
   "source": [
    "---\n",
    "### All extra features"
   ]
  },
  {
   "cell_type": "code",
   "execution_count": 21,
   "metadata": {},
   "outputs": [
    {
     "data": {
      "text/plain": [
       "{'test_balanced_accuracy': 0.7803998357875177,\n",
       " 'test_precision': 0.7922801575356941,\n",
       " 'test_recall': 0.7641109298531811,\n",
       " 'test_f1': 0.777924812868074,\n",
       " 'test_roc_auc': 0.8641428000388924}"
      ]
     },
     "execution_count": 21,
     "metadata": {},
     "output_type": "execute_result"
    }
   ],
   "source": [
    "pipe7 = Pipeline([\n",
    "    ('process', preprocess_6),\n",
    "    ('col_transformer', ct2),\n",
    "    ('clf', base_algs['rf'])\n",
    "])\n",
    "\n",
    "mlt.cv_evaluate(pipe6, X_train, y_train, scoring=['balanced_accuracy','precision','recall','f1','roc_auc'], print_scores=False)"
   ]
  },
  {
   "cell_type": "markdown",
   "metadata": {},
   "source": [
    "### All extra features dropping original service numerical features"
   ]
  },
  {
   "cell_type": "code",
   "execution_count": 22,
   "metadata": {},
   "outputs": [
    {
     "data": {
      "text/plain": [
       "{'test_balanced_accuracy': 0.7810645182200231,\n",
       " 'test_precision': 0.7935187091847354,\n",
       " 'test_recall': 0.7637846655791192,\n",
       " 'test_f1': 0.7783492979929225,\n",
       " 'test_roc_auc': 0.8637063405464387}"
      ]
     },
     "execution_count": 22,
     "metadata": {},
     "output_type": "execute_result"
    }
   ],
   "source": [
    "pipe8 = Pipeline([\n",
    "    ('process', preprocess_7),\n",
    "    ('col_transformer', ct3),\n",
    "    ('clf', base_algs['rf'])\n",
    "])\n",
    "\n",
    "mlt.cv_evaluate(pipe6, X_train, y_train, scoring=['balanced_accuracy','precision','recall','f1','roc_auc'], print_scores=False)"
   ]
  },
  {
   "cell_type": "markdown",
   "metadata": {},
   "source": [
    "---\n",
    "### Key Insights / Comments\n",
    "\n",
    "- Best performing set of features is without adding any extras.\n",
    "- Neither the serviceUsed nor the bigSpender features added anything significant to the model\n",
    "- serviceUsed features added noise and weakened the model\n",
    "- bigSpender features improved very slightly the recall but at the cost of precision. Given that i want the model to be correctly predicting both classes in the target i dont think i want to sacrifice anything in precision.\n",
    "- i will try leaving in bigSpender features with the original service features and adding feature selection"
   ]
  },
  {
   "cell_type": "markdown",
   "metadata": {},
   "source": [
    "---\n",
    "---\n",
    "### Baselines for all models no extras, no feature selection:\n",
    "\n",
    "Catbost note:\n",
    "- to get the best out of catboost it makes sense to pass the cat_cols to the cat_features parameter. However, the issue i've had is the ColumnTransformer strips the column names and passes an ndarray to catboost.\n",
    "- As catboost doesnt strictly need scaled numerical data i am going to remove the column transformer for catboost and just pass the transformed dataset.\n",
    "- It certainly feels like a bit of a cop out but the workarounds are quite complex. I have tried several ideas including wrapping catboost in a custom transformer but i still got errors and decided not to dedicate the time to mking it work for this project."
   ]
  },
  {
   "cell_type": "code",
   "execution_count": 23,
   "metadata": {},
   "outputs": [
    {
     "name": "stdout",
     "output_type": "stream",
     "text": [
      "<class 'pandas.core.frame.DataFrame'>\n",
      "Int64Index: 6085 entries, 7482 to 4298\n",
      "Data columns (total 16 columns):\n",
      " #   Column         Non-Null Count  Dtype  \n",
      "---  ------         --------------  -----  \n",
      " 0   HomePlanet     6085 non-null   object \n",
      " 1   CryoSleep      6085 non-null   int64  \n",
      " 2   Destination    6085 non-null   object \n",
      " 3   Age            6085 non-null   float64\n",
      " 4   VIP            6085 non-null   int64  \n",
      " 5   RoomService    6085 non-null   float64\n",
      " 6   FoodCourt      6085 non-null   float64\n",
      " 7   ShoppingMall   6085 non-null   float64\n",
      " 8   Spa            6085 non-null   float64\n",
      " 9   VRDeck         6085 non-null   float64\n",
      " 10  GroupSize      6085 non-null   int64  \n",
      " 11  InGroup        6085 non-null   int64  \n",
      " 12  Deck           6085 non-null   object \n",
      " 13  Side           6085 non-null   object \n",
      " 14  CabinPosition  6085 non-null   object \n",
      " 15  TotalSpent     6085 non-null   float64\n",
      "dtypes: float64(7), int64(4), object(5)\n",
      "memory usage: 808.2+ KB\n"
     ]
    }
   ],
   "source": [
    "# Sideline workaround for catboost that wasnt successful\n",
    "catb_pipe = Pipeline([\n",
    "    ('process', preprocess_1),\n",
    "    #('clf', catb)\n",
    "])\n",
    "transformed_df = catb_pipe.fit_transform(X_train, y_train)\n",
    "transformed_df.info()\n",
    "cat_idx_1 = [0,2,10,12,13,14]"
   ]
  },
  {
   "cell_type": "code",
   "execution_count": 24,
   "metadata": {},
   "outputs": [],
   "source": [
    "models = []\n",
    "balanced_accs = []\n",
    "precision = []\n",
    "recall = []\n",
    "f1_scores = []\n",
    "roc_auc_scores = []\n",
    "pipelines = {}\n",
    "\n",
    "for name, alg in base_algs.items():\n",
    "    if name != 'catb':\n",
    "        # standard feature set\n",
    "        baseline_pipe = Pipeline([\n",
    "            ('process', preprocess_1),\n",
    "            ('col_transformer', ct2),\n",
    "            ('clf', alg)\n",
    "        ])\n",
    "    elif name == 'catb':\n",
    "        baseline_pipe = Pipeline([\n",
    "            ('process', preprocess_1),\n",
    "            ('clf', alg)\n",
    "        ])\n",
    "\n",
    "    pipelines[name] = baseline_pipe\n",
    "\n",
    "    results = mlt.cv_evaluate(baseline_pipe, X_train, y_train, scoring=['balanced_accuracy','precision','recall','f1','roc_auc'], print_scores=False)\n",
    "\n",
    "    models.append(alg.__class__.__name__)\n",
    "    balanced_accs.append(results['test_balanced_accuracy'])\n",
    "    precision.append(results['test_precision'])\n",
    "    recall.append(results['test_recall'])\n",
    "    f1_scores.append(results['test_f1'])\n",
    "    roc_auc_scores.append(results['test_roc_auc'])\n",
    "\n",
    "baseline_cv = pd.DataFrame({\n",
    "    'Model': models,\n",
    "    'Balanced Accuracy': balanced_accs,\n",
    "    'Precision': precision,\n",
    "    'Recall': recall,\n",
    "    'F1 Score': f1_scores,\n",
    "    'ROC-AUC': roc_auc_scores\n",
    "})"
   ]
  },
  {
   "cell_type": "code",
   "execution_count": 25,
   "metadata": {},
   "outputs": [
    {
     "data": {
      "text/html": [
       "<div>\n",
       "<style scoped>\n",
       "    .dataframe tbody tr th:only-of-type {\n",
       "        vertical-align: middle;\n",
       "    }\n",
       "\n",
       "    .dataframe tbody tr th {\n",
       "        vertical-align: top;\n",
       "    }\n",
       "\n",
       "    .dataframe thead th {\n",
       "        text-align: right;\n",
       "    }\n",
       "</style>\n",
       "<table border=\"1\" class=\"dataframe\">\n",
       "  <thead>\n",
       "    <tr style=\"text-align: right;\">\n",
       "      <th></th>\n",
       "      <th>Model</th>\n",
       "      <th>Balanced Accuracy</th>\n",
       "      <th>Precision</th>\n",
       "      <th>Recall</th>\n",
       "      <th>F1 Score</th>\n",
       "      <th>ROC-AUC</th>\n",
       "    </tr>\n",
       "  </thead>\n",
       "  <tbody>\n",
       "    <tr>\n",
       "      <th>3</th>\n",
       "      <td>LGBMClassifier</td>\n",
       "      <td>0.805812</td>\n",
       "      <td>0.799860</td>\n",
       "      <td>0.819902</td>\n",
       "      <td>0.809703</td>\n",
       "      <td>0.900305</td>\n",
       "    </tr>\n",
       "    <tr>\n",
       "      <th>4</th>\n",
       "      <td>XGBClassifier</td>\n",
       "      <td>0.805566</td>\n",
       "      <td>0.806268</td>\n",
       "      <td>0.808483</td>\n",
       "      <td>0.807269</td>\n",
       "      <td>0.898014</td>\n",
       "    </tr>\n",
       "    <tr>\n",
       "      <th>2</th>\n",
       "      <td>RandomForestClassifier</td>\n",
       "      <td>0.802126</td>\n",
       "      <td>0.803634</td>\n",
       "      <td>0.803589</td>\n",
       "      <td>0.803546</td>\n",
       "      <td>0.890271</td>\n",
       "    </tr>\n",
       "    <tr>\n",
       "      <th>5</th>\n",
       "      <td>CatBoostClassifier</td>\n",
       "      <td>0.793441</td>\n",
       "      <td>0.784599</td>\n",
       "      <td>0.813703</td>\n",
       "      <td>0.798801</td>\n",
       "      <td>0.875178</td>\n",
       "    </tr>\n",
       "    <tr>\n",
       "      <th>0</th>\n",
       "      <td>LogisticRegression</td>\n",
       "      <td>0.751701</td>\n",
       "      <td>0.755633</td>\n",
       "      <td>0.749429</td>\n",
       "      <td>0.752491</td>\n",
       "      <td>0.832610</td>\n",
       "    </tr>\n",
       "    <tr>\n",
       "      <th>1</th>\n",
       "      <td>SVC</td>\n",
       "      <td>0.675556</td>\n",
       "      <td>0.670209</td>\n",
       "      <td>0.703100</td>\n",
       "      <td>0.686061</td>\n",
       "      <td>0.703760</td>\n",
       "    </tr>\n",
       "  </tbody>\n",
       "</table>\n",
       "</div>"
      ],
      "text/plain": [
       "                    Model  Balanced Accuracy  Precision    Recall  F1 Score  \\\n",
       "3          LGBMClassifier           0.805812   0.799860  0.819902  0.809703   \n",
       "4           XGBClassifier           0.805566   0.806268  0.808483  0.807269   \n",
       "2  RandomForestClassifier           0.802126   0.803634  0.803589  0.803546   \n",
       "5      CatBoostClassifier           0.793441   0.784599  0.813703  0.798801   \n",
       "0      LogisticRegression           0.751701   0.755633  0.749429  0.752491   \n",
       "1                     SVC           0.675556   0.670209  0.703100  0.686061   \n",
       "\n",
       "    ROC-AUC  \n",
       "3  0.900305  \n",
       "4  0.898014  \n",
       "2  0.890271  \n",
       "5  0.875178  \n",
       "0  0.832610  \n",
       "1  0.703760  "
      ]
     },
     "execution_count": 25,
     "metadata": {},
     "output_type": "execute_result"
    }
   ],
   "source": [
    "baseline_cv.sort_values(by='Balanced Accuracy', ascending=False)"
   ]
  },
  {
   "cell_type": "markdown",
   "metadata": {},
   "source": [
    "### Insights / Comments\n",
    "\n",
    "- LGBM and XGBM classifiers performed the best in terms of balanced accuracy, precision.\n",
    "- LGBM classifier showed the best recall and F1 score"
   ]
  },
  {
   "cell_type": "markdown",
   "metadata": {},
   "source": [
    "---\n",
    "### Baselines for all models with bigSpender features, no feature selection:"
   ]
  },
  {
   "cell_type": "code",
   "execution_count": 26,
   "metadata": {},
   "outputs": [],
   "source": [
    "models = []\n",
    "balanced_accs = []\n",
    "precision = []\n",
    "recall = []\n",
    "f1_scores = []\n",
    "roc_auc_scores = []\n",
    "pipelines = {}\n",
    "\n",
    "for name, alg in base_algs.items():\n",
    "    if name != 'catb':\n",
    "        # with bigSpender features\n",
    "        bigSpenders_pipe = Pipeline([\n",
    "            ('process', preprocess_4),\n",
    "            ('col_transformer', ct2),\n",
    "            ('clf', alg)\n",
    "        ])\n",
    "    elif name == 'catb':\n",
    "        bigSpenders_pipe = Pipeline([\n",
    "            ('process', preprocess_4),\n",
    "            ('clf', alg)\n",
    "        ])\n",
    "\n",
    "    pipelines[name] = baseline_pipe\n",
    "\n",
    "    results = mlt.cv_evaluate(baseline_pipe, X_train, y_train, scoring=['balanced_accuracy','precision','recall','f1','roc_auc'], print_scores=False)\n",
    "\n",
    "    models.append(alg.__class__.__name__)\n",
    "    balanced_accs.append(results['test_balanced_accuracy'])\n",
    "    precision.append(results['test_precision'])\n",
    "    recall.append(results['test_recall'])\n",
    "    f1_scores.append(results['test_f1'])\n",
    "    roc_auc_scores.append(results['test_roc_auc'])\n",
    "\n",
    "baseline_bigSpenders_cv = pd.DataFrame({\n",
    "    'Model': models,\n",
    "    'Balanced Accuracy': balanced_accs,\n",
    "    'Precision': precision,\n",
    "    'Recall': recall,\n",
    "    'F1 Score': f1_scores,\n",
    "    'ROC-AUC': roc_auc_scores\n",
    "})"
   ]
  },
  {
   "cell_type": "code",
   "execution_count": 27,
   "metadata": {},
   "outputs": [
    {
     "data": {
      "text/html": [
       "<div>\n",
       "<style scoped>\n",
       "    .dataframe tbody tr th:only-of-type {\n",
       "        vertical-align: middle;\n",
       "    }\n",
       "\n",
       "    .dataframe tbody tr th {\n",
       "        vertical-align: top;\n",
       "    }\n",
       "\n",
       "    .dataframe thead th {\n",
       "        text-align: right;\n",
       "    }\n",
       "</style>\n",
       "<table border=\"1\" class=\"dataframe\">\n",
       "  <thead>\n",
       "    <tr style=\"text-align: right;\">\n",
       "      <th></th>\n",
       "      <th>Model</th>\n",
       "      <th>Balanced Accuracy</th>\n",
       "      <th>Precision</th>\n",
       "      <th>Recall</th>\n",
       "      <th>F1 Score</th>\n",
       "      <th>ROC-AUC</th>\n",
       "    </tr>\n",
       "  </thead>\n",
       "  <tbody>\n",
       "    <tr>\n",
       "      <th>3</th>\n",
       "      <td>LGBMClassifier</td>\n",
       "      <td>0.796404</td>\n",
       "      <td>0.787862</td>\n",
       "      <td>0.815987</td>\n",
       "      <td>0.801579</td>\n",
       "      <td>0.874686</td>\n",
       "    </tr>\n",
       "    <tr>\n",
       "      <th>0</th>\n",
       "      <td>LogisticRegression</td>\n",
       "      <td>0.795106</td>\n",
       "      <td>0.787816</td>\n",
       "      <td>0.812398</td>\n",
       "      <td>0.799785</td>\n",
       "      <td>0.876188</td>\n",
       "    </tr>\n",
       "    <tr>\n",
       "      <th>4</th>\n",
       "      <td>XGBClassifier</td>\n",
       "      <td>0.794946</td>\n",
       "      <td>0.787963</td>\n",
       "      <td>0.811746</td>\n",
       "      <td>0.799543</td>\n",
       "      <td>0.875969</td>\n",
       "    </tr>\n",
       "    <tr>\n",
       "      <th>2</th>\n",
       "      <td>RandomForestClassifier</td>\n",
       "      <td>0.794778</td>\n",
       "      <td>0.787486</td>\n",
       "      <td>0.812072</td>\n",
       "      <td>0.799466</td>\n",
       "      <td>0.874795</td>\n",
       "    </tr>\n",
       "    <tr>\n",
       "      <th>1</th>\n",
       "      <td>SVC</td>\n",
       "      <td>0.793439</td>\n",
       "      <td>0.784436</td>\n",
       "      <td>0.814029</td>\n",
       "      <td>0.798867</td>\n",
       "      <td>0.874930</td>\n",
       "    </tr>\n",
       "    <tr>\n",
       "      <th>5</th>\n",
       "      <td>CatBoostClassifier</td>\n",
       "      <td>0.792650</td>\n",
       "      <td>0.786069</td>\n",
       "      <td>0.808809</td>\n",
       "      <td>0.797160</td>\n",
       "      <td>0.875329</td>\n",
       "    </tr>\n",
       "  </tbody>\n",
       "</table>\n",
       "</div>"
      ],
      "text/plain": [
       "                    Model  Balanced Accuracy  Precision    Recall  F1 Score  \\\n",
       "3          LGBMClassifier           0.796404   0.787862  0.815987  0.801579   \n",
       "0      LogisticRegression           0.795106   0.787816  0.812398  0.799785   \n",
       "4           XGBClassifier           0.794946   0.787963  0.811746  0.799543   \n",
       "2  RandomForestClassifier           0.794778   0.787486  0.812072  0.799466   \n",
       "1                     SVC           0.793439   0.784436  0.814029  0.798867   \n",
       "5      CatBoostClassifier           0.792650   0.786069  0.808809  0.797160   \n",
       "\n",
       "    ROC-AUC  \n",
       "3  0.874686  \n",
       "0  0.876188  \n",
       "4  0.875969  \n",
       "2  0.874795  \n",
       "1  0.874930  \n",
       "5  0.875329  "
      ]
     },
     "execution_count": 27,
     "metadata": {},
     "output_type": "execute_result"
    }
   ],
   "source": [
    "baseline_bigSpenders_cv.sort_values(by='Balanced Accuracy', ascending=False)"
   ]
  },
  {
   "cell_type": "markdown",
   "metadata": {},
   "source": [
    "### Insights / Comments\n",
    "\n",
    "- Extra features have weakened the models\n",
    "- Going to continue with the simpler selection of features and reduce the extra noise that could be complicating the model more than necessary\n",
    "- Currently most interested in continuing to tune random forest and lgbm classifiers"
   ]
  },
  {
   "cell_type": "markdown",
   "metadata": {},
   "source": [
    "---\n",
    "---\n",
    "## Cross Validation with feature selection\n",
    "\n",
    "I am going to trial 2 built in feature selection methods from scikit-learn:\n",
    "- SelectPercentile: 60% of features  \n",
    "- Recursive feature elimination (RFE): n_features = 5, 8"
   ]
  },
  {
   "cell_type": "markdown",
   "metadata": {},
   "source": [
    "---\n",
    "## Recursive Feature Elimination (RFE)\n",
    "Cross validate all base algorithms with RFE feature selection\n",
    "\n",
    "***Feature Selection:***\n",
    "- estimator = RandomForestClassifier()\n",
    "- n_features = 8\n",
    "\n",
    "***Aiming to improve on:***\n",
    "\n",
    "|Model\t|Balanced Accuracy\t|Precision\t|Recall\t|F1 Score\t|ROC-AUC|\n",
    "|-|-|-|-|-|-|\n",
    "|LGBMClassifier\t|0.806798|\t0.800897|\t0.820881\t|0.810679|\t0.899258|\n",
    "|XGBClassifier\t|0.807979|\t0.804443|\t0.817945\t|0.811015|\t0.895652|"
   ]
  },
  {
   "cell_type": "code",
   "execution_count": 28,
   "metadata": {},
   "outputs": [],
   "source": [
    "models = []\n",
    "balanced_accs = []\n",
    "precision = []\n",
    "recall = []\n",
    "f1_scores = []\n",
    "roc_auc_scores = []\n",
    "pipelines = {}\n",
    "\n",
    "for name, alg in base_algs.items():\n",
    "    if name != 'catb':\n",
    "        # standard feature set\n",
    "        baseline_pipe = Pipeline([\n",
    "            ('process', preprocess_1),\n",
    "            ('col_transformer', ct2),\n",
    "            ('feature_selection', rfe),\n",
    "            ('clf', alg)\n",
    "        ])\n",
    "\n",
    "    pipelines[name] = baseline_pipe\n",
    "\n",
    "    results = mlt.cv_evaluate(baseline_pipe, X_train, y_train, scoring=['balanced_accuracy','precision','recall','f1','roc_auc'], print_scores=False)\n",
    "\n",
    "    models.append(alg.__class__.__name__)\n",
    "    balanced_accs.append(results['test_balanced_accuracy'])\n",
    "    precision.append(results['test_precision'])\n",
    "    recall.append(results['test_recall'])\n",
    "    f1_scores.append(results['test_f1'])\n",
    "    roc_auc_scores.append(results['test_roc_auc'])\n",
    "\n",
    "rfe_cv = pd.DataFrame({\n",
    "    'Model': models,\n",
    "    'Balanced Accuracy': balanced_accs,\n",
    "    'Precision': precision,\n",
    "    'Recall': recall,\n",
    "    'F1 Score': f1_scores,\n",
    "    'ROC-AUC': roc_auc_scores\n",
    "})"
   ]
  },
  {
   "cell_type": "code",
   "execution_count": 29,
   "metadata": {},
   "outputs": [
    {
     "data": {
      "text/html": [
       "<div>\n",
       "<style scoped>\n",
       "    .dataframe tbody tr th:only-of-type {\n",
       "        vertical-align: middle;\n",
       "    }\n",
       "\n",
       "    .dataframe tbody tr th {\n",
       "        vertical-align: top;\n",
       "    }\n",
       "\n",
       "    .dataframe thead th {\n",
       "        text-align: right;\n",
       "    }\n",
       "</style>\n",
       "<table border=\"1\" class=\"dataframe\">\n",
       "  <thead>\n",
       "    <tr style=\"text-align: right;\">\n",
       "      <th></th>\n",
       "      <th>Model</th>\n",
       "      <th>Balanced Accuracy</th>\n",
       "      <th>Precision</th>\n",
       "      <th>Recall</th>\n",
       "      <th>F1 Score</th>\n",
       "      <th>ROC-AUC</th>\n",
       "    </tr>\n",
       "  </thead>\n",
       "  <tbody>\n",
       "    <tr>\n",
       "      <th>2</th>\n",
       "      <td>RandomForestClassifier</td>\n",
       "      <td>0.795800</td>\n",
       "      <td>0.779245</td>\n",
       "      <td>0.830343</td>\n",
       "      <td>0.803932</td>\n",
       "      <td>0.854291</td>\n",
       "    </tr>\n",
       "    <tr>\n",
       "      <th>3</th>\n",
       "      <td>LGBMClassifier</td>\n",
       "      <td>0.794535</td>\n",
       "      <td>0.770336</td>\n",
       "      <td>0.844698</td>\n",
       "      <td>0.805739</td>\n",
       "      <td>0.856444</td>\n",
       "    </tr>\n",
       "    <tr>\n",
       "      <th>4</th>\n",
       "      <td>XGBClassifier</td>\n",
       "      <td>0.788839</td>\n",
       "      <td>0.769078</td>\n",
       "      <td>0.831321</td>\n",
       "      <td>0.798911</td>\n",
       "      <td>0.848865</td>\n",
       "    </tr>\n",
       "    <tr>\n",
       "      <th>5</th>\n",
       "      <td>CatBoostClassifier</td>\n",
       "      <td>0.787834</td>\n",
       "      <td>0.766858</td>\n",
       "      <td>0.832953</td>\n",
       "      <td>0.798422</td>\n",
       "      <td>0.849847</td>\n",
       "    </tr>\n",
       "    <tr>\n",
       "      <th>0</th>\n",
       "      <td>LogisticRegression</td>\n",
       "      <td>0.751463</td>\n",
       "      <td>0.761634</td>\n",
       "      <td>0.737031</td>\n",
       "      <td>0.749088</td>\n",
       "      <td>0.801904</td>\n",
       "    </tr>\n",
       "    <tr>\n",
       "      <th>1</th>\n",
       "      <td>SVC</td>\n",
       "      <td>0.623858</td>\n",
       "      <td>0.628262</td>\n",
       "      <td>0.619902</td>\n",
       "      <td>0.623866</td>\n",
       "      <td>0.649961</td>\n",
       "    </tr>\n",
       "  </tbody>\n",
       "</table>\n",
       "</div>"
      ],
      "text/plain": [
       "                    Model  Balanced Accuracy  Precision    Recall  F1 Score  \\\n",
       "2  RandomForestClassifier           0.795800   0.779245  0.830343  0.803932   \n",
       "3          LGBMClassifier           0.794535   0.770336  0.844698  0.805739   \n",
       "4           XGBClassifier           0.788839   0.769078  0.831321  0.798911   \n",
       "5      CatBoostClassifier           0.787834   0.766858  0.832953  0.798422   \n",
       "0      LogisticRegression           0.751463   0.761634  0.737031  0.749088   \n",
       "1                     SVC           0.623858   0.628262  0.619902  0.623866   \n",
       "\n",
       "    ROC-AUC  \n",
       "2  0.854291  \n",
       "3  0.856444  \n",
       "4  0.848865  \n",
       "5  0.849847  \n",
       "0  0.801904  \n",
       "1  0.649961  "
      ]
     },
     "execution_count": 29,
     "metadata": {},
     "output_type": "execute_result"
    }
   ],
   "source": [
    "rfe_cv.sort_values(by='Balanced Accuracy', ascending=False)"
   ]
  },
  {
   "cell_type": "markdown",
   "metadata": {},
   "source": [
    "### Insights / Comments\n",
    "\n",
    "- rfe doesnt add any value to the models' balanced accuracy metric\n",
    "- as the test metric is balanced accuracy i need to make sure this is the best metric\n",
    "- However, rfe imroved recall but at the detriment"
   ]
  },
  {
   "cell_type": "markdown",
   "metadata": {},
   "source": [
    "---\n",
    "## SelectPercentile feature selection\n",
    "Cross validate all base algorithms with SelectPercentile feature selection\n",
    "\n",
    "***Feature Selection***:\n",
    "- percentile = 60%"
   ]
  },
  {
   "cell_type": "code",
   "execution_count": 30,
   "metadata": {},
   "outputs": [],
   "source": [
    "models = []\n",
    "balanced_accs = []\n",
    "precision = []\n",
    "recall = []\n",
    "f1_scores = []\n",
    "roc_auc_scores = []\n",
    "pipelines = {}\n",
    "\n",
    "for name, alg in base_algs.items():\n",
    "    if name != 'catb':\n",
    "        # standard feature set\n",
    "        baseline_pipe = Pipeline([\n",
    "            ('process', preprocess_1),\n",
    "            ('col_transformer', ct2),\n",
    "            ('feature_selection', select_percentile),\n",
    "            ('clf', alg)\n",
    "        ])\n",
    "\n",
    "    pipelines[name] = baseline_pipe\n",
    "\n",
    "    results = mlt.cv_evaluate(baseline_pipe, X_train, y_train, scoring=['balanced_accuracy','precision','recall','f1','roc_auc'], print_scores=False)\n",
    "\n",
    "    models.append(alg.__class__.__name__)\n",
    "    balanced_accs.append(results['test_balanced_accuracy'])\n",
    "    precision.append(results['test_precision'])\n",
    "    recall.append(results['test_recall'])\n",
    "    f1_scores.append(results['test_f1'])\n",
    "    roc_auc_scores.append(results['test_roc_auc'])\n",
    "\n",
    "selectPercent_cv = pd.DataFrame({\n",
    "    'Model': models,\n",
    "    'Balanced Accuracy': balanced_accs,\n",
    "    'Precision': precision,\n",
    "    'Recall': recall,\n",
    "    'F1 Score': f1_scores,\n",
    "    'ROC-AUC': roc_auc_scores\n",
    "})"
   ]
  },
  {
   "cell_type": "code",
   "execution_count": 31,
   "metadata": {},
   "outputs": [
    {
     "data": {
      "text/html": [
       "<div>\n",
       "<style scoped>\n",
       "    .dataframe tbody tr th:only-of-type {\n",
       "        vertical-align: middle;\n",
       "    }\n",
       "\n",
       "    .dataframe tbody tr th {\n",
       "        vertical-align: top;\n",
       "    }\n",
       "\n",
       "    .dataframe thead th {\n",
       "        text-align: right;\n",
       "    }\n",
       "</style>\n",
       "<table border=\"1\" class=\"dataframe\">\n",
       "  <thead>\n",
       "    <tr style=\"text-align: right;\">\n",
       "      <th></th>\n",
       "      <th>Model</th>\n",
       "      <th>Balanced Accuracy</th>\n",
       "      <th>Precision</th>\n",
       "      <th>Recall</th>\n",
       "      <th>F1 Score</th>\n",
       "      <th>ROC-AUC</th>\n",
       "    </tr>\n",
       "  </thead>\n",
       "  <tbody>\n",
       "    <tr>\n",
       "      <th>3</th>\n",
       "      <td>LGBMClassifier</td>\n",
       "      <td>0.803599</td>\n",
       "      <td>0.792047</td>\n",
       "      <td>0.828059</td>\n",
       "      <td>0.809468</td>\n",
       "      <td>0.890072</td>\n",
       "    </tr>\n",
       "    <tr>\n",
       "      <th>5</th>\n",
       "      <td>CatBoostClassifier</td>\n",
       "      <td>0.798233</td>\n",
       "      <td>0.790988</td>\n",
       "      <td>0.815008</td>\n",
       "      <td>0.802726</td>\n",
       "      <td>0.885092</td>\n",
       "    </tr>\n",
       "    <tr>\n",
       "      <th>2</th>\n",
       "      <td>RandomForestClassifier</td>\n",
       "      <td>0.797556</td>\n",
       "      <td>0.788942</td>\n",
       "      <td>0.816966</td>\n",
       "      <td>0.802659</td>\n",
       "      <td>0.884694</td>\n",
       "    </tr>\n",
       "    <tr>\n",
       "      <th>4</th>\n",
       "      <td>XGBClassifier</td>\n",
       "      <td>0.796399</td>\n",
       "      <td>0.787425</td>\n",
       "      <td>0.816639</td>\n",
       "      <td>0.801740</td>\n",
       "      <td>0.882659</td>\n",
       "    </tr>\n",
       "    <tr>\n",
       "      <th>0</th>\n",
       "      <td>LogisticRegression</td>\n",
       "      <td>0.754837</td>\n",
       "      <td>0.759675</td>\n",
       "      <td>0.750734</td>\n",
       "      <td>0.755133</td>\n",
       "      <td>0.829952</td>\n",
       "    </tr>\n",
       "    <tr>\n",
       "      <th>1</th>\n",
       "      <td>SVC</td>\n",
       "      <td>0.642290</td>\n",
       "      <td>0.641451</td>\n",
       "      <td>0.657096</td>\n",
       "      <td>0.648545</td>\n",
       "      <td>0.673538</td>\n",
       "    </tr>\n",
       "  </tbody>\n",
       "</table>\n",
       "</div>"
      ],
      "text/plain": [
       "                    Model  Balanced Accuracy  Precision    Recall  F1 Score  \\\n",
       "3          LGBMClassifier           0.803599   0.792047  0.828059  0.809468   \n",
       "5      CatBoostClassifier           0.798233   0.790988  0.815008  0.802726   \n",
       "2  RandomForestClassifier           0.797556   0.788942  0.816966  0.802659   \n",
       "4           XGBClassifier           0.796399   0.787425  0.816639  0.801740   \n",
       "0      LogisticRegression           0.754837   0.759675  0.750734  0.755133   \n",
       "1                     SVC           0.642290   0.641451  0.657096  0.648545   \n",
       "\n",
       "    ROC-AUC  \n",
       "3  0.890072  \n",
       "5  0.885092  \n",
       "2  0.884694  \n",
       "4  0.882659  \n",
       "0  0.829952  \n",
       "1  0.673538  "
      ]
     },
     "execution_count": 31,
     "metadata": {},
     "output_type": "execute_result"
    }
   ],
   "source": [
    "selectPercent_cv.sort_values(by='Balanced Accuracy', ascending=False)"
   ]
  },
  {
   "cell_type": "markdown",
   "metadata": {},
   "source": [
    "\n",
    "### Insights / Comments\n",
    "\n",
    "- Similarly to rfe, SelectPercentile reduced precision and imroved recall for most models\n",
    "- However, weakened balanced accuracy\n",
    "- From these methods i would continue to tune hyperparameters with no feature selection methods"
   ]
  },
  {
   "cell_type": "markdown",
   "metadata": {},
   "source": [
    "---\n",
    "## SelectKBest feature selection\n",
    "Cross validate all base algorithms on test data with SelectKBest feature selection\n",
    "\n",
    "***Feature Selection***:\n",
    "- k = 10"
   ]
  },
  {
   "cell_type": "code",
   "execution_count": 32,
   "metadata": {},
   "outputs": [],
   "source": [
    "models = []\n",
    "balanced_accs = []\n",
    "precision = []\n",
    "recall = []\n",
    "f1_scores = []\n",
    "roc_auc_scores = []\n",
    "pipelines = {}\n",
    "\n",
    "for name, alg in base_algs.items():\n",
    "    if name != 'catb':\n",
    "        # standard feature set\n",
    "        baseline_pipe = Pipeline([\n",
    "            ('process', preprocess_1),\n",
    "            ('col_transformer', ct2),\n",
    "            ('feature_selection', kBest),\n",
    "            ('clf', alg)\n",
    "        ])\n",
    "\n",
    "    pipelines[name] = baseline_pipe\n",
    "\n",
    "    results = mlt.cv_evaluate(baseline_pipe, X_train, y_train, scoring=['balanced_accuracy','precision','recall','f1','roc_auc'], print_scores=False)\n",
    "\n",
    "    models.append(alg.__class__.__name__)\n",
    "    balanced_accs.append(results['test_balanced_accuracy'])\n",
    "    precision.append(results['test_precision'])\n",
    "    recall.append(results['test_recall'])\n",
    "    f1_scores.append(results['test_f1'])\n",
    "    roc_auc_scores.append(results['test_roc_auc'])\n",
    "\n",
    "kBest_cv = pd.DataFrame({\n",
    "    'Model': models,\n",
    "    'Balanced Accuracy': balanced_accs,\n",
    "    'Precision': precision,\n",
    "    'Recall': recall,\n",
    "    'F1 Score': f1_scores,\n",
    "    'ROC-AUC': roc_auc_scores\n",
    "})"
   ]
  },
  {
   "cell_type": "code",
   "execution_count": 33,
   "metadata": {},
   "outputs": [
    {
     "data": {
      "text/html": [
       "<div>\n",
       "<style scoped>\n",
       "    .dataframe tbody tr th:only-of-type {\n",
       "        vertical-align: middle;\n",
       "    }\n",
       "\n",
       "    .dataframe tbody tr th {\n",
       "        vertical-align: top;\n",
       "    }\n",
       "\n",
       "    .dataframe thead th {\n",
       "        text-align: right;\n",
       "    }\n",
       "</style>\n",
       "<table border=\"1\" class=\"dataframe\">\n",
       "  <thead>\n",
       "    <tr style=\"text-align: right;\">\n",
       "      <th></th>\n",
       "      <th>Model</th>\n",
       "      <th>Balanced Accuracy</th>\n",
       "      <th>Precision</th>\n",
       "      <th>Recall</th>\n",
       "      <th>F1 Score</th>\n",
       "      <th>ROC-AUC</th>\n",
       "    </tr>\n",
       "  </thead>\n",
       "  <tbody>\n",
       "    <tr>\n",
       "      <th>3</th>\n",
       "      <td>LGBMClassifier</td>\n",
       "      <td>0.795781</td>\n",
       "      <td>0.778126</td>\n",
       "      <td>0.832953</td>\n",
       "      <td>0.804232</td>\n",
       "      <td>0.876612</td>\n",
       "    </tr>\n",
       "    <tr>\n",
       "      <th>2</th>\n",
       "      <td>RandomForestClassifier</td>\n",
       "      <td>0.794152</td>\n",
       "      <td>0.777549</td>\n",
       "      <td>0.829364</td>\n",
       "      <td>0.802502</td>\n",
       "      <td>0.866328</td>\n",
       "    </tr>\n",
       "    <tr>\n",
       "      <th>5</th>\n",
       "      <td>CatBoostClassifier</td>\n",
       "      <td>0.792024</td>\n",
       "      <td>0.765512</td>\n",
       "      <td>0.848287</td>\n",
       "      <td>0.804582</td>\n",
       "      <td>0.864961</td>\n",
       "    </tr>\n",
       "    <tr>\n",
       "      <th>4</th>\n",
       "      <td>XGBClassifier</td>\n",
       "      <td>0.791335</td>\n",
       "      <td>0.773929</td>\n",
       "      <td>0.829690</td>\n",
       "      <td>0.800506</td>\n",
       "      <td>0.870844</td>\n",
       "    </tr>\n",
       "    <tr>\n",
       "      <th>0</th>\n",
       "      <td>LogisticRegression</td>\n",
       "      <td>0.751088</td>\n",
       "      <td>0.758019</td>\n",
       "      <td>0.742904</td>\n",
       "      <td>0.750323</td>\n",
       "      <td>0.817505</td>\n",
       "    </tr>\n",
       "    <tr>\n",
       "      <th>1</th>\n",
       "      <td>SVC</td>\n",
       "      <td>0.653875</td>\n",
       "      <td>0.649288</td>\n",
       "      <td>0.679935</td>\n",
       "      <td>0.663575</td>\n",
       "      <td>0.655854</td>\n",
       "    </tr>\n",
       "  </tbody>\n",
       "</table>\n",
       "</div>"
      ],
      "text/plain": [
       "                    Model  Balanced Accuracy  Precision    Recall  F1 Score  \\\n",
       "3          LGBMClassifier           0.795781   0.778126  0.832953  0.804232   \n",
       "2  RandomForestClassifier           0.794152   0.777549  0.829364  0.802502   \n",
       "5      CatBoostClassifier           0.792024   0.765512  0.848287  0.804582   \n",
       "4           XGBClassifier           0.791335   0.773929  0.829690  0.800506   \n",
       "0      LogisticRegression           0.751088   0.758019  0.742904  0.750323   \n",
       "1                     SVC           0.653875   0.649288  0.679935  0.663575   \n",
       "\n",
       "    ROC-AUC  \n",
       "3  0.876612  \n",
       "2  0.866328  \n",
       "5  0.864961  \n",
       "4  0.870844  \n",
       "0  0.817505  \n",
       "1  0.655854  "
      ]
     },
     "execution_count": 33,
     "metadata": {},
     "output_type": "execute_result"
    }
   ],
   "source": [
    "kBest_cv.sort_values(by='Balanced Accuracy', ascending=False)"
   ]
  },
  {
   "cell_type": "markdown",
   "metadata": {},
   "source": [
    "\n",
    "### Insights / Comments\n",
    "\n",
    "- Same picture as with other feature selection methods.\n",
    "- SelectKBest reduced precision and imroved recall for most models\n",
    "- However, weakened balanced accuracy\n",
    "- Still getting strange behaviour of catboost slipping through."
   ]
  },
  {
   "cell_type": "markdown",
   "metadata": {},
   "source": [
    "---\n",
    "## PhikFeatureSelector\n",
    "\n",
    "- I have made a custom feature selector based on phik\n",
    "- Phik is a good metric to use on mixed feature type datasets similar to mutual_info_score and is somewhat robust to scaling and distribution issues.\n",
    "- I could have simply put a phik scoring function into SelectKBest but then you have to select a given number and i wanted to use a certain correlation threshold, so i made another class for this feature selector\n",
    "- I have chosen a threshold of 0.2 but, as with all of these feature selection methods, this could be looped over to find the absolute best threshold or number of features.\n",
    "- Although the expanded feature set with bigSpender and serviceUsed features hasnt proven to improve accuracy scores, i am going to run this feature selection on the fully expanded feature set\n",
    "- Unfortunatley getting an error with this transformer so i have devised a workaround to try out the concept of using phik correlations as a selection method. Given that calculating a phik matrix requires the pd.DataFrame as input, i don't think this would be a particularly efficient feature selection method for larger datasets and is probably not worth pursuing for any other reason than to learn more about using custom transformer classes with pipelines."
   ]
  },
  {
   "cell_type": "code",
   "execution_count": 34,
   "metadata": {},
   "outputs": [],
   "source": [
    "models = []\n",
    "balanced_accs = []\n",
    "precision = []\n",
    "recall = []\n",
    "f1_scores = []\n",
    "roc_auc_scores = []\n",
    "pipelines = {}\n",
    "\n",
    "for name, alg in base_algs.items():\n",
    "    if name != 'catb':\n",
    "        # standard feature set\n",
    "        baseline_pipe = Pipeline([\n",
    "            ('process', preprocess_8),\n",
    "            ('col_transformer', ct5),\n",
    "            ('clf', alg)\n",
    "        ])\n",
    "\n",
    "    pipelines[name] = baseline_pipe\n",
    "\n",
    "    results = mlt.cv_evaluate(baseline_pipe, X_train, y_train, scoring=['balanced_accuracy','precision','recall','f1','roc_auc'], print_scores=False)\n",
    "\n",
    "    models.append(alg.__class__.__name__)\n",
    "    balanced_accs.append(results['test_balanced_accuracy'])\n",
    "    precision.append(results['test_precision'])\n",
    "    recall.append(results['test_recall'])\n",
    "    f1_scores.append(results['test_f1'])\n",
    "    roc_auc_scores.append(results['test_roc_auc'])\n",
    "\n",
    "phikSelector_cv = pd.DataFrame({\n",
    "    'Model': models,\n",
    "    'Balanced Accuracy': balanced_accs,\n",
    "    'Precision': precision,\n",
    "    'Recall': recall,\n",
    "    'F1 Score': f1_scores,\n",
    "    'ROC-AUC': roc_auc_scores\n",
    "})"
   ]
  },
  {
   "cell_type": "code",
   "execution_count": 35,
   "metadata": {},
   "outputs": [
    {
     "data": {
      "text/html": [
       "<div>\n",
       "<style scoped>\n",
       "    .dataframe tbody tr th:only-of-type {\n",
       "        vertical-align: middle;\n",
       "    }\n",
       "\n",
       "    .dataframe tbody tr th {\n",
       "        vertical-align: top;\n",
       "    }\n",
       "\n",
       "    .dataframe thead th {\n",
       "        text-align: right;\n",
       "    }\n",
       "</style>\n",
       "<table border=\"1\" class=\"dataframe\">\n",
       "  <thead>\n",
       "    <tr style=\"text-align: right;\">\n",
       "      <th></th>\n",
       "      <th>Model</th>\n",
       "      <th>Balanced Accuracy</th>\n",
       "      <th>Precision</th>\n",
       "      <th>Recall</th>\n",
       "      <th>F1 Score</th>\n",
       "      <th>ROC-AUC</th>\n",
       "    </tr>\n",
       "  </thead>\n",
       "  <tbody>\n",
       "    <tr>\n",
       "      <th>2</th>\n",
       "      <td>RandomForestClassifier</td>\n",
       "      <td>0.785087</td>\n",
       "      <td>0.767195</td>\n",
       "      <td>0.823817</td>\n",
       "      <td>0.794477</td>\n",
       "      <td>0.859234</td>\n",
       "    </tr>\n",
       "    <tr>\n",
       "      <th>3</th>\n",
       "      <td>LGBMClassifier</td>\n",
       "      <td>0.783907</td>\n",
       "      <td>0.754031</td>\n",
       "      <td>0.848940</td>\n",
       "      <td>0.798606</td>\n",
       "      <td>0.867373</td>\n",
       "    </tr>\n",
       "    <tr>\n",
       "      <th>4</th>\n",
       "      <td>XGBClassifier</td>\n",
       "      <td>0.782750</td>\n",
       "      <td>0.752689</td>\n",
       "      <td>0.848613</td>\n",
       "      <td>0.797704</td>\n",
       "      <td>0.859482</td>\n",
       "    </tr>\n",
       "    <tr>\n",
       "      <th>5</th>\n",
       "      <td>CatBoostClassifier</td>\n",
       "      <td>0.780308</td>\n",
       "      <td>0.751905</td>\n",
       "      <td>0.843067</td>\n",
       "      <td>0.794831</td>\n",
       "      <td>0.861812</td>\n",
       "    </tr>\n",
       "    <tr>\n",
       "      <th>0</th>\n",
       "      <td>LogisticRegression</td>\n",
       "      <td>0.767802</td>\n",
       "      <td>0.771413</td>\n",
       "      <td>0.766069</td>\n",
       "      <td>0.768644</td>\n",
       "      <td>0.838849</td>\n",
       "    </tr>\n",
       "    <tr>\n",
       "      <th>1</th>\n",
       "      <td>SVC</td>\n",
       "      <td>0.681865</td>\n",
       "      <td>0.664822</td>\n",
       "      <td>0.745188</td>\n",
       "      <td>0.702496</td>\n",
       "      <td>0.667564</td>\n",
       "    </tr>\n",
       "  </tbody>\n",
       "</table>\n",
       "</div>"
      ],
      "text/plain": [
       "                    Model  Balanced Accuracy  Precision    Recall  F1 Score  \\\n",
       "2  RandomForestClassifier           0.785087   0.767195  0.823817  0.794477   \n",
       "3          LGBMClassifier           0.783907   0.754031  0.848940  0.798606   \n",
       "4           XGBClassifier           0.782750   0.752689  0.848613  0.797704   \n",
       "5      CatBoostClassifier           0.780308   0.751905  0.843067  0.794831   \n",
       "0      LogisticRegression           0.767802   0.771413  0.766069  0.768644   \n",
       "1                     SVC           0.681865   0.664822  0.745188  0.702496   \n",
       "\n",
       "    ROC-AUC  \n",
       "2  0.859234  \n",
       "3  0.867373  \n",
       "4  0.859482  \n",
       "5  0.861812  \n",
       "0  0.838849  \n",
       "1  0.667564  "
      ]
     },
     "execution_count": 35,
     "metadata": {},
     "output_type": "execute_result"
    }
   ],
   "source": [
    "phikSelector_cv.sort_values(by='Balanced Accuracy', ascending=False)"
   ]
  },
  {
   "cell_type": "markdown",
   "metadata": {},
   "source": [
    "### Insights / Comments\n",
    "\n",
    "- Same as with all other feature selection methods\n",
    "- Getting reductions in precision for gains in recall.\n",
    "- the reduction brings down the accuracy to below the baseline testing with no feature selection\n",
    "- Decision made to move foward with no feature selection methods and no extra features."
   ]
  },
  {
   "cell_type": "markdown",
   "metadata": {},
   "source": [
    "---\n",
    "---\n",
    "## Hyperparameter Tuning\n",
    "\n",
    "From the baseline testing i am going to tune:\n",
    "- Random Forest Classifier\n",
    "- LGBM Classifier\n",
    "- XGBM Classifier"
   ]
  },
  {
   "cell_type": "code",
   "execution_count": 36,
   "metadata": {},
   "outputs": [],
   "source": [
    "gs_best_estimators = {}\n",
    "gs_best_scores = {}"
   ]
  },
  {
   "cell_type": "code",
   "execution_count": 41,
   "metadata": {},
   "outputs": [],
   "source": [
    "models = []\n",
    "balanced_accs = []\n",
    "precision = []\n",
    "recall = []\n",
    "f1_scores = []\n",
    "roc_auc_scores = []\n",
    "pipelines = {}\n",
    "\n",
    "for name, alg in base_algs.items():\n",
    "    if name != 'catb':\n",
    "        # standard feature set\n",
    "        baseline_pipe = Pipeline([\n",
    "            ('process', preprocess_1),\n",
    "            ('col_transformer', ct2),\n",
    "            ('clf', alg)\n",
    "        ])\n",
    "    elif name == 'catb':\n",
    "        baseline_pipe = Pipeline([\n",
    "            ('process', preprocess_1),\n",
    "            ('clf', alg)\n",
    "        ])\n",
    "\n",
    "    pipelines[name] = baseline_pipe"
   ]
  },
  {
   "cell_type": "markdown",
   "metadata": {},
   "source": [
    "---\n",
    "### Random Forest\n",
    "\n",
    "Hyperparameter Tuning with GridSearchCV"
   ]
  },
  {
   "cell_type": "code",
   "execution_count": 42,
   "metadata": {},
   "outputs": [],
   "source": [
    "params_grid_rf = {\n",
    "    'clf__n_estimators': [100, 200, 300],\n",
    "    'clf__max_depth': [None, 10, 20, 30],\n",
    "    'clf__min_samples_split': [2, 5, 10],\n",
    "    'clf__min_samples_leaf': [1, 2, 4]\n",
    "}\n",
    "gs = GridSearchCV(estimator=pipelines['rf'], param_grid=params_grid_rf, cv=5, n_jobs=1, scoring='accuracy')"
   ]
  },
  {
   "cell_type": "code",
   "execution_count": 43,
   "metadata": {},
   "outputs": [
    {
     "name": "stdout",
     "output_type": "stream",
     "text": [
      "Best Hyperparameters:\n",
      "{'clf__max_depth': None, 'clf__min_samples_leaf': 4, 'clf__min_samples_split': 10, 'clf__n_estimators': 100}\n",
      "\n",
      "Best Accuracy Score:\n",
      "0.8082169268693509\n"
     ]
    }
   ],
   "source": [
    "gs.fit(X_train, y_train)\n",
    "rf_tuned = gs.best_estimator_\n",
    "gs_best_estimators['rf'] = rf_tuned\n",
    "joblib.dump(gs_best_estimators['rf'], '../models/rf_tuned.joblib')\n",
    "gs_best_scores['rf'] = gs.best_score_\n",
    "\n",
    "print(f'Best Hyperparameters:\\n{gs.best_params_}')\n",
    "print()\n",
    "print(f'Best Accuracy Score:\\n{gs.best_score_}')"
   ]
  },
  {
   "cell_type": "code",
   "execution_count": null,
   "metadata": {},
   "outputs": [],
   "source": [
    "feature_importances = rf_tuned.named_steps['clf'].feature_importances_\n",
    "feature_names = rf_tuned.named_steps['col_transformer'].get_feature_names_out()\n",
    "# Workaround as I forgot to put 'verbose_feature_names_out=False' when i instatiated ColumnTransformer class\n",
    "feature_names = [name.replace('cat_cols__', '').replace('num_cols__', '').replace('remainder__','') for name in feature_names]\n",
    "\n",
    "rf_importance_df = pd.DataFrame({\n",
    "    'Feature': feature_names,\n",
    "    'Importance': feature_importances}).sort_values(by='Importance', ascending=False)"
   ]
  },
  {
   "cell_type": "code",
   "execution_count": null,
   "metadata": {},
   "outputs": [
    {
     "data": {
      "image/png": "[encoded data removed]",
      "text/plain": [
       "<Figure size 1000x800 with 1 Axes>"
      ]
     },
     "metadata": {},
     "output_type": "display_data"
    }
   ],
   "source": [
    "plt.figure(figsize=(10, 8))\n",
    "plt.barh(rf_importance_df['Feature'], rf_importance_df['Importance'])\n",
    "plt.xlabel('Importance')\n",
    "plt.ylabel('Feature')\n",
    "plt.title('Feature Importances for Random Forest Model')\n",
    "plt.gca().invert_yaxis()\n",
    "plt.tick_params(axis='y', pad=2)\n",
    "plt.tight_layout()\n",
    "plt.show()"
   ]
  },
  {
   "cell_type": "markdown",
   "metadata": {},
   "source": [
    "---\n",
    "### LGBM\n",
    "\n",
    "Hyperparameter Tuning with GridSearchCV"
   ]
  },
  {
   "cell_type": "code",
   "execution_count": 81,
   "metadata": {},
   "outputs": [],
   "source": [
    "params_grid_lgbm = {\n",
    "    'clf__num_leaves': [31, 50, 70],\n",
    "    'clf__max_depth': [-1, 10, 20, 30],\n",
    "    'clf__learning_rate': [0.1, 0.01, 0.001],\n",
    "    'clf__n_estimators': [100, 200, 300]\n",
    "}\n",
    "\n",
    "gs = GridSearchCV(estimator=pipelines['lgbm'], param_grid=params_grid_lgbm, cv=5, n_jobs=1, scoring='accuracy')"
   ]
  },
  {
   "cell_type": "code",
   "execution_count": 82,
   "metadata": {},
   "outputs": [
    {
     "name": "stderr",
     "output_type": "stream",
     "text": [
      "/Library/Frameworks/Python.framework/Versions/3.12/lib/python3.12/site-packages/numpy/ma/core.py:2820: RuntimeWarning: invalid value encountered in cast\n",
      "  _data = np.array(data, dtype=dtype, copy=copy,\n"
     ]
    },
    {
     "name": "stdout",
     "output_type": "stream",
     "text": [
      "Best Hyperparameters:\n",
      "{'clf__learning_rate': 0.01, 'clf__max_depth': -1, 'clf__n_estimators': 300, 'clf__num_leaves': 31}\n",
      "\n",
      "Best Accuracy Score:\n",
      "0.811175020542317\n"
     ]
    }
   ],
   "source": [
    "gs.fit(X_train, y_train)\n",
    "lgbm_tuned = gs.best_estimator_\n",
    "gs_best_estimators['lgbm'] = lgbm_tuned\n",
    "joblib.dump(gs_best_estimators['lgbm'], '../models/lgbm_tuned.joblib')\n",
    "gs_best_scores['lgbm'] = gs.best_score_\n",
    "\n",
    "print(f'Best Hyperparameters:\\n{gs.best_params_}')\n",
    "print()\n",
    "print(f'Best Accuracy Score:\\n{gs.best_score_}')"
   ]
  },
  {
   "cell_type": "code",
   "execution_count": 83,
   "metadata": {},
   "outputs": [],
   "source": [
    "feature_importances = lgbm_tuned.named_steps['clf'].feature_importances_\n",
    "feature_names = lgbm_tuned.named_steps['col_transformer'].get_feature_names_out()\n",
    "feature_names = [name.replace('cat_cols__', '').replace('num_cols__', '').replace('remainder__','') for name in feature_names]\n",
    "\n",
    "lgbm_importance_df = pd.DataFrame({\n",
    "    'Feature': feature_names,\n",
    "    'Importance': feature_importances}).sort_values(by='Importance', ascending=False)"
   ]
  },
  {
   "cell_type": "code",
   "execution_count": 84,
   "metadata": {},
   "outputs": [
    {
     "data": {
      "image/png": "[encoded data removed]",
      "text/plain": [
       "<Figure size 1000x800 with 1 Axes>"
      ]
     },
     "metadata": {},
     "output_type": "display_data"
    }
   ],
   "source": [
    "plt.figure(figsize=(10, 8))\n",
    "plt.barh(lgbm_importance_df['Feature'], lgbm_importance_df['Importance'])\n",
    "plt.xlabel('Importance')\n",
    "plt.ylabel('Feature')\n",
    "plt.title('Feature Importances for LGBM Model')\n",
    "plt.gca().invert_yaxis()\n",
    "plt.show()"
   ]
  },
  {
   "cell_type": "markdown",
   "metadata": {},
   "source": [
    "---\n",
    "### XGBM\n",
    "\n",
    "Hyperparameter tuning with GridSearchCV"
   ]
  },
  {
   "cell_type": "code",
   "execution_count": 76,
   "metadata": {},
   "outputs": [],
   "source": [
    "params_grid_xgbm = {\n",
    "    'clf__max_depth': [3, 6, 10],\n",
    "    'clf__learning_rate': [0.1, 0.01, 0.001],\n",
    "    'clf__n_estimators': [100, 200, 300],\n",
    "    'clf__subsample': [0.6, 0.8, 1.0]\n",
    "}\n",
    "\n",
    "gs = GridSearchCV(estimator=pipelines['xgbm'], param_grid=params_grid_xgbm, cv=5, n_jobs=1, scoring='accuracy')"
   ]
  },
  {
   "cell_type": "code",
   "execution_count": 77,
   "metadata": {},
   "outputs": [
    {
     "name": "stdout",
     "output_type": "stream",
     "text": [
      "Best Hyperparameters:\n",
      "{'clf__learning_rate': 0.1, 'clf__max_depth': 3, 'clf__n_estimators': 300, 'clf__subsample': 0.8}\n",
      "\n",
      "Best Accuracy Score:\n",
      "0.8121610517666392\n"
     ]
    }
   ],
   "source": [
    "gs.fit(X_train, y_train)\n",
    "xgbm_tuned = gs.best_estimator_\n",
    "gs_best_estimators['xgbm'] = xgbm_tuned\n",
    "joblib.dump(gs_best_estimators['xgbm'], '../models/xgbm_tuned.joblib')\n",
    "gs_best_scores['xgbm'] = gs.best_score_\n",
    "\n",
    "print(f'Best Hyperparameters:\\n{gs.best_params_}')\n",
    "print()\n",
    "print(f'Best Accuracy Score:\\n{gs.best_score_}')"
   ]
  },
  {
   "cell_type": "code",
   "execution_count": 78,
   "metadata": {},
   "outputs": [],
   "source": [
    "feature_importances = xgbm_tuned.named_steps['clf'].feature_importances_\n",
    "feature_names = xgbm_tuned.named_steps['col_transformer'].get_feature_names_out()\n",
    "feature_names = [name.replace('cat_cols__', '').replace('num_cols__', '').replace('remainder__','') for name in feature_names]\n",
    "\n",
    "xgbm_importance_df = pd.DataFrame({\n",
    "    'Feature': feature_names,\n",
    "    'Importance': feature_importances}).sort_values(by='Importance', ascending=False)"
   ]
  },
  {
   "cell_type": "code",
   "execution_count": 80,
   "metadata": {},
   "outputs": [
    {
     "data": {
      "image/png": "[encoded data removed]",
      "text/plain": [
       "<Figure size 1000x800 with 1 Axes>"
      ]
     },
     "metadata": {},
     "output_type": "display_data"
    }
   ],
   "source": [
    "plt.figure(figsize=(10, 8))\n",
    "plt.barh(xgbm_importance_df['Feature'], xgbm_importance_df['Importance'])\n",
    "plt.xlabel('Importance')\n",
    "plt.ylabel('Feature')\n",
    "plt.title('Feature Importances for XGBM Model')\n",
    "plt.gca().invert_yaxis()\n",
    "plt.show()"
   ]
  },
  {
   "cell_type": "markdown",
   "metadata": {},
   "source": [
    "---\n",
    "---\n",
    "## Evaluation of tuned models with validation set\n",
    "\n",
    "Random Forest"
   ]
  },
  {
   "cell_type": "code",
   "execution_count": 85,
   "metadata": {},
   "outputs": [
    {
     "name": "stdout",
     "output_type": "stream",
     "text": [
      "Test Scores (Classification):\n",
      "------------------------------\n",
      "F1: 0.78613\n",
      "Roc auc: 0.78727\n",
      "\n",
      "Classification Report:\n",
      "----------------------\n",
      "              precision    recall  f1-score   support\n",
      "\n",
      "       False       0.78      0.80      0.79      1295\n",
      "        True       0.80      0.78      0.79      1313\n",
      "\n",
      "    accuracy                           0.79      2608\n",
      "   macro avg       0.79      0.79      0.79      2608\n",
      "weighted avg       0.79      0.79      0.79      2608\n",
      "\n",
      "\n",
      "Confusion Matrix:\n",
      "-----------------\n"
     ]
    },
    {
     "data": {
      "image/png": "[encoded data removed]",
      "text/plain": [
       "<Figure size 640x480 with 2 Axes>"
      ]
     },
     "metadata": {},
     "output_type": "display_data"
    }
   ],
   "source": [
    "mlt.fit_test_evaluate(gs_best_estimators['rf'], X_train, y_train, X_val, y_val, metrics=['balanced_accuracy', 'f1', 'roc_auc'], print_report=True)"
   ]
  },
  {
   "cell_type": "markdown",
   "metadata": {},
   "source": [
    "---\n",
    "LGBM"
   ]
  },
  {
   "cell_type": "code",
   "execution_count": 86,
   "metadata": {},
   "outputs": [
    {
     "name": "stdout",
     "output_type": "stream",
     "text": [
      "Test Scores (Classification):\n",
      "------------------------------\n",
      "F1: 0.79625\n",
      "Roc auc: 0.79128\n",
      "\n",
      "Classification Report:\n",
      "----------------------\n",
      "              precision    recall  f1-score   support\n",
      "\n",
      "       False       0.80      0.77      0.79      1295\n",
      "        True       0.78      0.81      0.80      1313\n",
      "\n",
      "    accuracy                           0.79      2608\n",
      "   macro avg       0.79      0.79      0.79      2608\n",
      "weighted avg       0.79      0.79      0.79      2608\n",
      "\n",
      "\n",
      "Confusion Matrix:\n",
      "-----------------\n"
     ]
    },
    {
     "data": {
      "image/png": "[encoded data removed]",
      "text/plain": [
       "<Figure size 640x480 with 2 Axes>"
      ]
     },
     "metadata": {},
     "output_type": "display_data"
    }
   ],
   "source": [
    "mlt.fit_test_evaluate(gs_best_estimators['lgbm'], X_train, y_train, X_val, y_val, metrics=['balanced_accuracy', 'f1', 'roc_auc'], print_report=True)"
   ]
  },
  {
   "cell_type": "markdown",
   "metadata": {},
   "source": [
    "---\n",
    "XGBM"
   ]
  },
  {
   "cell_type": "code",
   "execution_count": 87,
   "metadata": {},
   "outputs": [
    {
     "name": "stdout",
     "output_type": "stream",
     "text": [
      "Test Scores (Classification):\n",
      "------------------------------\n",
      "F1: 0.80179\n",
      "Roc auc: 0.79625\n",
      "\n",
      "Classification Report:\n",
      "----------------------\n",
      "              precision    recall  f1-score   support\n",
      "\n",
      "       False       0.81      0.77      0.79      1295\n",
      "        True       0.79      0.82      0.80      1313\n",
      "\n",
      "    accuracy                           0.80      2608\n",
      "   macro avg       0.80      0.80      0.80      2608\n",
      "weighted avg       0.80      0.80      0.80      2608\n",
      "\n",
      "\n",
      "Confusion Matrix:\n",
      "-----------------\n"
     ]
    },
    {
     "data": {
      "image/png": "[encoded data removed]",
      "text/plain": [
       "<Figure size 640x480 with 2 Axes>"
      ]
     },
     "metadata": {},
     "output_type": "display_data"
    }
   ],
   "source": [
    "mlt.fit_test_evaluate(gs_best_estimators['xgbm'], X_train, y_train, X_val, y_val, metrics=['balanced_accuracy', 'f1', 'roc_auc'], print_report=True)"
   ]
  },
  {
   "cell_type": "markdown",
   "metadata": {},
   "source": [
    "- Not quite hitting the 80% accuracy goal. Close but no cigar. \n",
    "- I will try to train on the entire dataset with no split and use each model to make a set of predictions and then submit all three."
   ]
  }
 ],
 "metadata": {
  "kernelspec": {
   "display_name": "Python 3",
   "language": "python",
   "name": "python3"
  },
  "language_info": {
   "codemirror_mode": {
    "name": "ipython",
    "version": 3
   },
   "file_extension": ".py",
   "mimetype": "text/x-python",
   "name": "python",
   "nbconvert_exporter": "python",
   "pygments_lexer": "ipython3",
   "version": "3.12.1"
  }
 },
 "nbformat": 4,
 "nbformat_minor": 2
}
